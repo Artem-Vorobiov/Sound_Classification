{
 "cells": [
  {
   "cell_type": "markdown",
   "id": "0f197d2f",
   "metadata": {},
   "source": [
    "## <div align=\"center\">K-Means</div>"
   ]
  },
  {
   "cell_type": "code",
   "execution_count": 57,
   "id": "322ec7a3",
   "metadata": {},
   "outputs": [],
   "source": [
    "import os\n",
    "import numpy as np\n",
    "import pandas as pd\n",
    "from tables import *\n",
    "import h5py\n",
    "import matplotlib.pyplot as plt\n",
    "import seaborn as sns\n",
    "from sklearn.cluster import KMeans\n",
    "from sklearn import metrics"
   ]
  },
  {
   "cell_type": "markdown",
   "id": "118d3327",
   "metadata": {},
   "source": [
    "### INTRODUCTION: in this Jupyter Notebook I will do clustering analysis with K-Means."
   ]
  },
  {
   "cell_type": "markdown",
   "id": "65026896",
   "metadata": {},
   "source": [
    "### Part 1.  Elbow Method\n",
    "### Part 2.  Multidimensional K-Means\n",
    "### Part 3.  Conclusion"
   ]
  },
  {
   "cell_type": "markdown",
   "id": "ef44c4f4",
   "metadata": {},
   "source": [
    "## <div align=\"center\">Part 1. Elbow Method</div>"
   ]
  },
  {
   "cell_type": "markdown",
   "id": "e3da7cef",
   "metadata": {},
   "source": [
    "Elbow method can help me determine the optimal number of clusters, which can help me avoid underfitting or overfitting my data."
   ]
  },
  {
   "cell_type": "code",
   "execution_count": 58,
   "id": "4862d4b3",
   "metadata": {},
   "outputs": [],
   "source": [
    "# Load my data\n",
    "features_array = np.load('features_array_2.0.npy')\n",
    "label_array = np.load('label_array_2.0.npy')"
   ]
  },
  {
   "cell_type": "code",
   "execution_count": 59,
   "id": "4c81bcb9",
   "metadata": {},
   "outputs": [],
   "source": [
    "categories = ['breathing', 'coughing', 'footsteps', 'laughing', 'sneezing', 'snoring', 'toilet_flush', 'vacuum_cleaner', 'washing_machine']"
   ]
  },
  {
   "cell_type": "code",
   "execution_count": 60,
   "id": "efa1d580",
   "metadata": {},
   "outputs": [
    {
     "name": "stderr",
     "output_type": "stream",
     "text": [
      "/Users/av/opt/anaconda3/lib/python3.9/site-packages/sklearn/cluster/_kmeans.py:870: FutureWarning: The default value of `n_init` will change from 10 to 'auto' in 1.4. Set the value of `n_init` explicitly to suppress the warning\n",
      "  warnings.warn(\n",
      "/Users/av/opt/anaconda3/lib/python3.9/site-packages/sklearn/cluster/_kmeans.py:870: FutureWarning: The default value of `n_init` will change from 10 to 'auto' in 1.4. Set the value of `n_init` explicitly to suppress the warning\n",
      "  warnings.warn(\n",
      "/Users/av/opt/anaconda3/lib/python3.9/site-packages/sklearn/cluster/_kmeans.py:870: FutureWarning: The default value of `n_init` will change from 10 to 'auto' in 1.4. Set the value of `n_init` explicitly to suppress the warning\n",
      "  warnings.warn(\n",
      "/Users/av/opt/anaconda3/lib/python3.9/site-packages/sklearn/cluster/_kmeans.py:870: FutureWarning: The default value of `n_init` will change from 10 to 'auto' in 1.4. Set the value of `n_init` explicitly to suppress the warning\n",
      "  warnings.warn(\n",
      "/Users/av/opt/anaconda3/lib/python3.9/site-packages/sklearn/cluster/_kmeans.py:870: FutureWarning: The default value of `n_init` will change from 10 to 'auto' in 1.4. Set the value of `n_init` explicitly to suppress the warning\n",
      "  warnings.warn(\n",
      "/Users/av/opt/anaconda3/lib/python3.9/site-packages/sklearn/cluster/_kmeans.py:870: FutureWarning: The default value of `n_init` will change from 10 to 'auto' in 1.4. Set the value of `n_init` explicitly to suppress the warning\n",
      "  warnings.warn(\n",
      "/Users/av/opt/anaconda3/lib/python3.9/site-packages/sklearn/cluster/_kmeans.py:870: FutureWarning: The default value of `n_init` will change from 10 to 'auto' in 1.4. Set the value of `n_init` explicitly to suppress the warning\n",
      "  warnings.warn(\n",
      "/Users/av/opt/anaconda3/lib/python3.9/site-packages/sklearn/cluster/_kmeans.py:870: FutureWarning: The default value of `n_init` will change from 10 to 'auto' in 1.4. Set the value of `n_init` explicitly to suppress the warning\n",
      "  warnings.warn(\n",
      "/Users/av/opt/anaconda3/lib/python3.9/site-packages/sklearn/cluster/_kmeans.py:870: FutureWarning: The default value of `n_init` will change from 10 to 'auto' in 1.4. Set the value of `n_init` explicitly to suppress the warning\n",
      "  warnings.warn(\n",
      "/Users/av/opt/anaconda3/lib/python3.9/site-packages/sklearn/cluster/_kmeans.py:870: FutureWarning: The default value of `n_init` will change from 10 to 'auto' in 1.4. Set the value of `n_init` explicitly to suppress the warning\n",
      "  warnings.warn(\n",
      "/Users/av/opt/anaconda3/lib/python3.9/site-packages/sklearn/cluster/_kmeans.py:870: FutureWarning: The default value of `n_init` will change from 10 to 'auto' in 1.4. Set the value of `n_init` explicitly to suppress the warning\n",
      "  warnings.warn(\n",
      "/Users/av/opt/anaconda3/lib/python3.9/site-packages/sklearn/cluster/_kmeans.py:870: FutureWarning: The default value of `n_init` will change from 10 to 'auto' in 1.4. Set the value of `n_init` explicitly to suppress the warning\n",
      "  warnings.warn(\n",
      "/Users/av/opt/anaconda3/lib/python3.9/site-packages/sklearn/cluster/_kmeans.py:870: FutureWarning: The default value of `n_init` will change from 10 to 'auto' in 1.4. Set the value of `n_init` explicitly to suppress the warning\n",
      "  warnings.warn(\n",
      "/Users/av/opt/anaconda3/lib/python3.9/site-packages/sklearn/cluster/_kmeans.py:870: FutureWarning: The default value of `n_init` will change from 10 to 'auto' in 1.4. Set the value of `n_init` explicitly to suppress the warning\n",
      "  warnings.warn(\n",
      "/Users/av/opt/anaconda3/lib/python3.9/site-packages/sklearn/cluster/_kmeans.py:870: FutureWarning: The default value of `n_init` will change from 10 to 'auto' in 1.4. Set the value of `n_init` explicitly to suppress the warning\n",
      "  warnings.warn(\n",
      "/Users/av/opt/anaconda3/lib/python3.9/site-packages/sklearn/cluster/_kmeans.py:870: FutureWarning: The default value of `n_init` will change from 10 to 'auto' in 1.4. Set the value of `n_init` explicitly to suppress the warning\n",
      "  warnings.warn(\n",
      "/Users/av/opt/anaconda3/lib/python3.9/site-packages/sklearn/cluster/_kmeans.py:870: FutureWarning: The default value of `n_init` will change from 10 to 'auto' in 1.4. Set the value of `n_init` explicitly to suppress the warning\n",
      "  warnings.warn(\n"
     ]
    },
    {
     "data": {
      "image/png": "[encoded data removed]",
      "text/plain": [
       "<Figure size 432x288 with 1 Axes>"
      ]
     },
     "metadata": {
      "needs_background": "light"
     },
     "output_type": "display_data"
    }
   ],
   "source": [
    "# Calculate (SSE) for different values of k\n",
    "\n",
    "sse = []\n",
    "for k in range(1, 18):\n",
    "    kmeans = KMeans(n_clusters=k)\n",
    "    kmeans.fit(features_array)\n",
    "    sse.append(kmeans.inertia_)\n",
    "\n",
    "# Plot the SSE values against the number of clusters (k)\n",
    "plt.plot(range(1, 18), sse, marker='o')\n",
    "plt.xlabel('Number of clusters (k)')\n",
    "plt.ylabel('SSE')\n",
    "plt.title('Elbow Method')\n",
    "plt.show()\n"
   ]
  },
  {
   "cell_type": "markdown",
   "id": "6de8acb0",
   "metadata": {},
   "source": [
    "Looking at the graph I would chose 4 clusters because for me it's an \"elbow\", but I know the number of clusters, which is 9, and I will go with 9."
   ]
  },
  {
   "cell_type": "markdown",
   "id": "7e94887a",
   "metadata": {},
   "source": [
    "## <div align=\"center\">Part 2. Multidimensional K-Means</div>"
   ]
  },
  {
   "cell_type": "markdown",
   "id": "03305732",
   "metadata": {},
   "source": [
    "#### SECTION A. Data preparation"
   ]
  },
  {
   "cell_type": "code",
   "execution_count": 61,
   "id": "18b153ed",
   "metadata": {},
   "outputs": [],
   "source": [
    "from sklearn.preprocessing import StandardScaler\n",
    "from sklearn.model_selection import train_test_split\n",
    "from sklearn.metrics import accuracy_score, classification_report, confusion_matrix\n",
    "from sklearn.metrics import silhouette_score\n",
    "\n",
    "\n",
    "X = features_array\n",
    "y = label_array\n",
    "\n",
    "scaler = StandardScaler()\n",
    "X = scaler.fit_transform(X)\n",
    "\n",
    "# Split data\n",
    "X_train, X_test, y_train, y_test = train_test_split(X, y, test_size=0.2, random_state=10)"
   ]
  },
  {
   "cell_type": "markdown",
   "id": "6f71863e",
   "metadata": {},
   "source": [
    "In order to see the performace of K-Means, I need to prepare(label) test and train data. Thus when appply a test set to our K-Means  I could compare if the predicted cluster matches with the real cluster.( because the data is labeled)"
   ]
  },
  {
   "cell_type": "code",
   "execution_count": 62,
   "id": "207d066b",
   "metadata": {},
   "outputs": [
    {
     "data": {
      "text/html": [
       "<div>\n",
       "<style scoped>\n",
       "    .dataframe tbody tr th:only-of-type {\n",
       "        vertical-align: middle;\n",
       "    }\n",
       "\n",
       "    .dataframe tbody tr th {\n",
       "        vertical-align: top;\n",
       "    }\n",
       "\n",
       "    .dataframe thead th {\n",
       "        text-align: right;\n",
       "    }\n",
       "</style>\n",
       "<table border=\"1\" class=\"dataframe\">\n",
       "  <thead>\n",
       "    <tr style=\"text-align: right;\">\n",
       "      <th></th>\n",
       "      <th>0</th>\n",
       "      <th>1</th>\n",
       "      <th>2</th>\n",
       "      <th>3</th>\n",
       "      <th>4</th>\n",
       "      <th>5</th>\n",
       "      <th>6</th>\n",
       "      <th>7</th>\n",
       "      <th>8</th>\n",
       "      <th>9</th>\n",
       "      <th>...</th>\n",
       "      <th>51</th>\n",
       "      <th>52</th>\n",
       "      <th>53</th>\n",
       "      <th>54</th>\n",
       "      <th>55</th>\n",
       "      <th>56</th>\n",
       "      <th>57</th>\n",
       "      <th>58</th>\n",
       "      <th>59</th>\n",
       "      <th>60</th>\n",
       "    </tr>\n",
       "  </thead>\n",
       "  <tbody>\n",
       "    <tr>\n",
       "      <th>0</th>\n",
       "      <td>5.0</td>\n",
       "      <td>-0.496384</td>\n",
       "      <td>-1.017519</td>\n",
       "      <td>-1.305974</td>\n",
       "      <td>-1.163248</td>\n",
       "      <td>-0.953759</td>\n",
       "      <td>-0.846611</td>\n",
       "      <td>-0.782664</td>\n",
       "      <td>-0.643258</td>\n",
       "      <td>-0.517495</td>\n",
       "      <td>...</td>\n",
       "      <td>-0.747124</td>\n",
       "      <td>-1.049416</td>\n",
       "      <td>-1.429132</td>\n",
       "      <td>-1.239480</td>\n",
       "      <td>-1.058453</td>\n",
       "      <td>-0.993017</td>\n",
       "      <td>-0.904144</td>\n",
       "      <td>-0.579901</td>\n",
       "      <td>-0.388052</td>\n",
       "      <td>-0.325784</td>\n",
       "    </tr>\n",
       "    <tr>\n",
       "      <th>1</th>\n",
       "      <td>4.0</td>\n",
       "      <td>-0.481706</td>\n",
       "      <td>-1.001402</td>\n",
       "      <td>-1.289623</td>\n",
       "      <td>-1.141245</td>\n",
       "      <td>-0.920185</td>\n",
       "      <td>-0.776264</td>\n",
       "      <td>-0.628868</td>\n",
       "      <td>-0.332101</td>\n",
       "      <td>0.072594</td>\n",
       "      <td>...</td>\n",
       "      <td>-0.718336</td>\n",
       "      <td>-1.043970</td>\n",
       "      <td>-1.424484</td>\n",
       "      <td>-1.233169</td>\n",
       "      <td>-1.043668</td>\n",
       "      <td>-0.955109</td>\n",
       "      <td>-0.810030</td>\n",
       "      <td>-0.457182</td>\n",
       "      <td>-0.239676</td>\n",
       "      <td>-0.191296</td>\n",
       "    </tr>\n",
       "    <tr>\n",
       "      <th>2</th>\n",
       "      <td>4.0</td>\n",
       "      <td>-0.096497</td>\n",
       "      <td>1.726121</td>\n",
       "      <td>1.029841</td>\n",
       "      <td>-0.485666</td>\n",
       "      <td>-0.613673</td>\n",
       "      <td>-0.630528</td>\n",
       "      <td>-0.538981</td>\n",
       "      <td>-0.389990</td>\n",
       "      <td>-0.264328</td>\n",
       "      <td>...</td>\n",
       "      <td>-0.288977</td>\n",
       "      <td>0.334171</td>\n",
       "      <td>0.951098</td>\n",
       "      <td>0.728780</td>\n",
       "      <td>0.329547</td>\n",
       "      <td>0.108235</td>\n",
       "      <td>-0.133976</td>\n",
       "      <td>-0.356980</td>\n",
       "      <td>-0.330419</td>\n",
       "      <td>-0.315236</td>\n",
       "    </tr>\n",
       "    <tr>\n",
       "      <th>3</th>\n",
       "      <td>7.0</td>\n",
       "      <td>-0.172727</td>\n",
       "      <td>0.424530</td>\n",
       "      <td>0.004935</td>\n",
       "      <td>0.074797</td>\n",
       "      <td>0.782584</td>\n",
       "      <td>1.888913</td>\n",
       "      <td>2.800370</td>\n",
       "      <td>3.409028</td>\n",
       "      <td>4.083301</td>\n",
       "      <td>...</td>\n",
       "      <td>-0.682904</td>\n",
       "      <td>-0.423084</td>\n",
       "      <td>0.854053</td>\n",
       "      <td>1.407011</td>\n",
       "      <td>1.141826</td>\n",
       "      <td>0.533828</td>\n",
       "      <td>0.037783</td>\n",
       "      <td>-0.310820</td>\n",
       "      <td>-0.373337</td>\n",
       "      <td>-0.300732</td>\n",
       "    </tr>\n",
       "    <tr>\n",
       "      <th>4</th>\n",
       "      <td>3.0</td>\n",
       "      <td>-0.454893</td>\n",
       "      <td>-0.535163</td>\n",
       "      <td>0.727751</td>\n",
       "      <td>1.762381</td>\n",
       "      <td>1.260309</td>\n",
       "      <td>0.518859</td>\n",
       "      <td>0.208178</td>\n",
       "      <td>-0.046787</td>\n",
       "      <td>-0.193898</td>\n",
       "      <td>...</td>\n",
       "      <td>0.483622</td>\n",
       "      <td>1.474347</td>\n",
       "      <td>1.120399</td>\n",
       "      <td>-0.335964</td>\n",
       "      <td>-0.784294</td>\n",
       "      <td>-0.810802</td>\n",
       "      <td>-0.756698</td>\n",
       "      <td>-0.470692</td>\n",
       "      <td>-0.327966</td>\n",
       "      <td>-0.273044</td>\n",
       "    </tr>\n",
       "  </tbody>\n",
       "</table>\n",
       "<p>5 rows × 61 columns</p>\n",
       "</div>"
      ],
      "text/plain": [
       "    0         1         2         3         4         5         6         7   \\\n",
       "0  5.0 -0.496384 -1.017519 -1.305974 -1.163248 -0.953759 -0.846611 -0.782664   \n",
       "1  4.0 -0.481706 -1.001402 -1.289623 -1.141245 -0.920185 -0.776264 -0.628868   \n",
       "2  4.0 -0.096497  1.726121  1.029841 -0.485666 -0.613673 -0.630528 -0.538981   \n",
       "3  7.0 -0.172727  0.424530  0.004935  0.074797  0.782584  1.888913  2.800370   \n",
       "4  3.0 -0.454893 -0.535163  0.727751  1.762381  1.260309  0.518859  0.208178   \n",
       "\n",
       "         8         9   ...        51        52        53        54        55  \\\n",
       "0 -0.643258 -0.517495  ... -0.747124 -1.049416 -1.429132 -1.239480 -1.058453   \n",
       "1 -0.332101  0.072594  ... -0.718336 -1.043970 -1.424484 -1.233169 -1.043668   \n",
       "2 -0.389990 -0.264328  ... -0.288977  0.334171  0.951098  0.728780  0.329547   \n",
       "3  3.409028  4.083301  ... -0.682904 -0.423084  0.854053  1.407011  1.141826   \n",
       "4 -0.046787 -0.193898  ...  0.483622  1.474347  1.120399 -0.335964 -0.784294   \n",
       "\n",
       "         56        57        58        59        60  \n",
       "0 -0.993017 -0.904144 -0.579901 -0.388052 -0.325784  \n",
       "1 -0.955109 -0.810030 -0.457182 -0.239676 -0.191296  \n",
       "2  0.108235 -0.133976 -0.356980 -0.330419 -0.315236  \n",
       "3  0.533828  0.037783 -0.310820 -0.373337 -0.300732  \n",
       "4 -0.810802 -0.756698 -0.470692 -0.327966 -0.273044  \n",
       "\n",
       "[5 rows x 61 columns]"
      ]
     },
     "execution_count": 62,
     "metadata": {},
     "output_type": "execute_result"
    }
   ],
   "source": [
    "# Train Data preparation \n",
    "y_train = np.vstack(y_train)\n",
    "train_sum_up = np.hstack([y_train, X_train])\n",
    "train_pd = pd.DataFrame(train_sum_up)\n",
    "\n",
    "# Test Data preparation \n",
    "y_test = np.vstack(y_test)\n",
    "test_sum_up = np.hstack([y_test, X_test])\n",
    "test_pd = pd.DataFrame(test_sum_up)\n",
    "train_pd.head()"
   ]
  },
  {
   "cell_type": "code",
   "execution_count": 63,
   "id": "c1fd755d",
   "metadata": {},
   "outputs": [
    {
     "name": "stderr",
     "output_type": "stream",
     "text": [
      "/Users/av/opt/anaconda3/lib/python3.9/site-packages/sklearn/cluster/_kmeans.py:870: FutureWarning: The default value of `n_init` will change from 10 to 'auto' in 1.4. Set the value of `n_init` explicitly to suppress the warning\n",
      "  warnings.warn(\n"
     ]
    },
    {
     "data": {
      "text/html": [
       "<style>#sk-container-id-4 {color: black;background-color: white;}#sk-container-id-4 pre{padding: 0;}#sk-container-id-4 div.sk-toggleable {background-color: white;}#sk-container-id-4 label.sk-toggleable__label {cursor: pointer;display: block;width: 100%;margin-bottom: 0;padding: 0.3em;box-sizing: border-box;text-align: center;}#sk-container-id-4 label.sk-toggleable__label-arrow:before {content: \"▸\";float: left;margin-right: 0.25em;color: #696969;}#sk-container-id-4 label.sk-toggleable__label-arrow:hover:before {color: black;}#sk-container-id-4 div.sk-estimator:hover label.sk-toggleable__label-arrow:before {color: black;}#sk-container-id-4 div.sk-toggleable__content {max-height: 0;max-width: 0;overflow: hidden;text-align: left;background-color: #f0f8ff;}#sk-container-id-4 div.sk-toggleable__content pre {margin: 0.2em;color: black;border-radius: 0.25em;background-color: #f0f8ff;}#sk-container-id-4 input.sk-toggleable__control:checked~div.sk-toggleable__content {max-height: 200px;max-width: 100%;overflow: auto;}#sk-container-id-4 input.sk-toggleable__control:checked~label.sk-toggleable__label-arrow:before {content: \"▾\";}#sk-container-id-4 div.sk-estimator input.sk-toggleable__control:checked~label.sk-toggleable__label {background-color: #d4ebff;}#sk-container-id-4 div.sk-label input.sk-toggleable__control:checked~label.sk-toggleable__label {background-color: #d4ebff;}#sk-container-id-4 input.sk-hidden--visually {border: 0;clip: rect(1px 1px 1px 1px);clip: rect(1px, 1px, 1px, 1px);height: 1px;margin: -1px;overflow: hidden;padding: 0;position: absolute;width: 1px;}#sk-container-id-4 div.sk-estimator {font-family: monospace;background-color: #f0f8ff;border: 1px dotted black;border-radius: 0.25em;box-sizing: border-box;margin-bottom: 0.5em;}#sk-container-id-4 div.sk-estimator:hover {background-color: #d4ebff;}#sk-container-id-4 div.sk-parallel-item::after {content: \"\";width: 100%;border-bottom: 1px solid gray;flex-grow: 1;}#sk-container-id-4 div.sk-label:hover label.sk-toggleable__label {background-color: #d4ebff;}#sk-container-id-4 div.sk-serial::before {content: \"\";position: absolute;border-left: 1px solid gray;box-sizing: border-box;top: 0;bottom: 0;left: 50%;z-index: 0;}#sk-container-id-4 div.sk-serial {display: flex;flex-direction: column;align-items: center;background-color: white;padding-right: 0.2em;padding-left: 0.2em;position: relative;}#sk-container-id-4 div.sk-item {position: relative;z-index: 1;}#sk-container-id-4 div.sk-parallel {display: flex;align-items: stretch;justify-content: center;background-color: white;position: relative;}#sk-container-id-4 div.sk-item::before, #sk-container-id-4 div.sk-parallel-item::before {content: \"\";position: absolute;border-left: 1px solid gray;box-sizing: border-box;top: 0;bottom: 0;left: 50%;z-index: -1;}#sk-container-id-4 div.sk-parallel-item {display: flex;flex-direction: column;z-index: 1;position: relative;background-color: white;}#sk-container-id-4 div.sk-parallel-item:first-child::after {align-self: flex-end;width: 50%;}#sk-container-id-4 div.sk-parallel-item:last-child::after {align-self: flex-start;width: 50%;}#sk-container-id-4 div.sk-parallel-item:only-child::after {width: 0;}#sk-container-id-4 div.sk-dashed-wrapped {border: 1px dashed gray;margin: 0 0.4em 0.5em 0.4em;box-sizing: border-box;padding-bottom: 0.4em;background-color: white;}#sk-container-id-4 div.sk-label label {font-family: monospace;font-weight: bold;display: inline-block;line-height: 1.2em;}#sk-container-id-4 div.sk-label-container {text-align: center;}#sk-container-id-4 div.sk-container {/* jupyter's `normalize.less` sets `[hidden] { display: none; }` but bootstrap.min.css set `[hidden] { display: none !important; }` so we also need the `!important` here to be able to override the default hidden behavior on the sphinx rendered scikit-learn.org. See: https://github.com/scikit-learn/scikit-learn/issues/21755 */display: inline-block !important;position: relative;}#sk-container-id-4 div.sk-text-repr-fallback {display: none;}</style><div id=\"sk-container-id-4\" class=\"sk-top-container\"><div class=\"sk-text-repr-fallback\"><pre>KMeans(n_clusters=9)</pre><b>In a Jupyter environment, please rerun this cell to show the HTML representation or trust the notebook. <br />On GitHub, the HTML representation is unable to render, please try loading this page with nbviewer.org.</b></div><div class=\"sk-container\" hidden><div class=\"sk-item\"><div class=\"sk-estimator sk-toggleable\"><input class=\"sk-toggleable__control sk-hidden--visually\" id=\"sk-estimator-id-4\" type=\"checkbox\" checked><label for=\"sk-estimator-id-4\" class=\"sk-toggleable__label sk-toggleable__label-arrow\">KMeans</label><div class=\"sk-toggleable__content\"><pre>KMeans(n_clusters=9)</pre></div></div></div></div></div>"
      ],
      "text/plain": [
       "KMeans(n_clusters=9)"
      ]
     },
     "execution_count": 63,
     "metadata": {},
     "output_type": "execute_result"
    }
   ],
   "source": [
    "# Train model\n",
    "kmeans = KMeans(n_clusters=9)\n",
    "kmeans.fit(X_train)\n"
   ]
  },
  {
   "cell_type": "markdown",
   "id": "28453cc8",
   "metadata": {},
   "source": [
    "Lets see  Mean distance from centroid, it might give me alsready some insight."
   ]
  },
  {
   "cell_type": "code",
   "execution_count": 64,
   "id": "a171a3f7",
   "metadata": {},
   "outputs": [
    {
     "name": "stdout",
     "output_type": "stream",
     "text": [
      "Cluster 0: Mean distance from centroid = 4.000617810714229\n",
      "Cluster 1: Mean distance from centroid = 5.1226911987155725\n",
      "Cluster 2: Mean distance from centroid = 0.9954042680768408\n",
      "Cluster 3: Mean distance from centroid = 2.2919154863029734\n",
      "Cluster 4: Mean distance from centroid = 3.766568742943069\n",
      "Cluster 5: Mean distance from centroid = 10.998852355935908\n",
      "Cluster 6: Mean distance from centroid = 3.999901839800714\n",
      "Cluster 7: Mean distance from centroid = 1.8724416720558223\n",
      "Cluster 8: Mean distance from centroid = 3.1175641741779048\n"
     ]
    }
   ],
   "source": [
    "from sklearn.metrics import pairwise_distances\n",
    "\n",
    "# Get the cluster labels and centroid coordinates\n",
    "labels_pred = kmeans.labels_\n",
    "centroids = kmeans.cluster_centers_\n",
    "\n",
    "# Compute the distances between each data point and its assigned centroid\n",
    "distances = pairwise_distances(X_train, centroids)\n",
    "\n",
    "# Print the mean distance of each cluster from its centroid\n",
    "for i in range(9):\n",
    "    mean_distance = np.mean(distances[labels_pred == i, i])\n",
    "    print(\"Cluster {}: Mean distance from centroid = {}\".format(i, mean_distance))"
   ]
  },
  {
   "cell_type": "markdown",
   "id": "2a2038d9",
   "metadata": {},
   "source": [
    "Clusters with smaller mean distances from their centroids (mean distance of 0.99) indicate that the data points in the cluster are tightly packed around their centroid, and the centroid is a good representative of the cluster. \n",
    "Clusters with larger mean distances from their centroids (ean distance of 10.99) indicate that the data points in the cluster are more spread out and the centroid may not be as good of a representative for the cluster."
   ]
  },
  {
   "cell_type": "code",
   "execution_count": 65,
   "id": "3889e907",
   "metadata": {},
   "outputs": [
    {
     "data": {
      "text/html": [
       "<div>\n",
       "<style scoped>\n",
       "    .dataframe tbody tr th:only-of-type {\n",
       "        vertical-align: middle;\n",
       "    }\n",
       "\n",
       "    .dataframe tbody tr th {\n",
       "        vertical-align: top;\n",
       "    }\n",
       "\n",
       "    .dataframe thead th {\n",
       "        text-align: right;\n",
       "    }\n",
       "</style>\n",
       "<table border=\"1\" class=\"dataframe\">\n",
       "  <thead>\n",
       "    <tr style=\"text-align: right;\">\n",
       "      <th></th>\n",
       "      <th>labels</th>\n",
       "      <th>1</th>\n",
       "      <th>2</th>\n",
       "      <th>3</th>\n",
       "      <th>4</th>\n",
       "      <th>5</th>\n",
       "      <th>6</th>\n",
       "      <th>7</th>\n",
       "      <th>8</th>\n",
       "      <th>9</th>\n",
       "      <th>...</th>\n",
       "      <th>52</th>\n",
       "      <th>53</th>\n",
       "      <th>54</th>\n",
       "      <th>55</th>\n",
       "      <th>56</th>\n",
       "      <th>57</th>\n",
       "      <th>58</th>\n",
       "      <th>59</th>\n",
       "      <th>60</th>\n",
       "      <th>Group</th>\n",
       "    </tr>\n",
       "  </thead>\n",
       "  <tbody>\n",
       "    <tr>\n",
       "      <th>0</th>\n",
       "      <td>snoring</td>\n",
       "      <td>-0.496384</td>\n",
       "      <td>-1.017519</td>\n",
       "      <td>-1.305974</td>\n",
       "      <td>-1.163248</td>\n",
       "      <td>-0.953759</td>\n",
       "      <td>-0.846611</td>\n",
       "      <td>-0.782664</td>\n",
       "      <td>-0.643258</td>\n",
       "      <td>-0.517495</td>\n",
       "      <td>...</td>\n",
       "      <td>-1.049416</td>\n",
       "      <td>-1.429132</td>\n",
       "      <td>-1.239480</td>\n",
       "      <td>-1.058453</td>\n",
       "      <td>-0.993017</td>\n",
       "      <td>-0.904144</td>\n",
       "      <td>-0.579901</td>\n",
       "      <td>-0.388052</td>\n",
       "      <td>-0.325784</td>\n",
       "      <td>2</td>\n",
       "    </tr>\n",
       "    <tr>\n",
       "      <th>1</th>\n",
       "      <td>sneezing</td>\n",
       "      <td>-0.481706</td>\n",
       "      <td>-1.001402</td>\n",
       "      <td>-1.289623</td>\n",
       "      <td>-1.141245</td>\n",
       "      <td>-0.920185</td>\n",
       "      <td>-0.776264</td>\n",
       "      <td>-0.628868</td>\n",
       "      <td>-0.332101</td>\n",
       "      <td>0.072594</td>\n",
       "      <td>...</td>\n",
       "      <td>-1.043970</td>\n",
       "      <td>-1.424484</td>\n",
       "      <td>-1.233169</td>\n",
       "      <td>-1.043668</td>\n",
       "      <td>-0.955109</td>\n",
       "      <td>-0.810030</td>\n",
       "      <td>-0.457182</td>\n",
       "      <td>-0.239676</td>\n",
       "      <td>-0.191296</td>\n",
       "      <td>2</td>\n",
       "    </tr>\n",
       "    <tr>\n",
       "      <th>2</th>\n",
       "      <td>sneezing</td>\n",
       "      <td>-0.096497</td>\n",
       "      <td>1.726121</td>\n",
       "      <td>1.029841</td>\n",
       "      <td>-0.485666</td>\n",
       "      <td>-0.613673</td>\n",
       "      <td>-0.630528</td>\n",
       "      <td>-0.538981</td>\n",
       "      <td>-0.389990</td>\n",
       "      <td>-0.264328</td>\n",
       "      <td>...</td>\n",
       "      <td>0.334171</td>\n",
       "      <td>0.951098</td>\n",
       "      <td>0.728780</td>\n",
       "      <td>0.329547</td>\n",
       "      <td>0.108235</td>\n",
       "      <td>-0.133976</td>\n",
       "      <td>-0.356980</td>\n",
       "      <td>-0.330419</td>\n",
       "      <td>-0.315236</td>\n",
       "      <td>6</td>\n",
       "    </tr>\n",
       "    <tr>\n",
       "      <th>3</th>\n",
       "      <td>vacuum_cleaner</td>\n",
       "      <td>-0.172727</td>\n",
       "      <td>0.424530</td>\n",
       "      <td>0.004935</td>\n",
       "      <td>0.074797</td>\n",
       "      <td>0.782584</td>\n",
       "      <td>1.888913</td>\n",
       "      <td>2.800370</td>\n",
       "      <td>3.409028</td>\n",
       "      <td>4.083301</td>\n",
       "      <td>...</td>\n",
       "      <td>-0.423084</td>\n",
       "      <td>0.854053</td>\n",
       "      <td>1.407011</td>\n",
       "      <td>1.141826</td>\n",
       "      <td>0.533828</td>\n",
       "      <td>0.037783</td>\n",
       "      <td>-0.310820</td>\n",
       "      <td>-0.373337</td>\n",
       "      <td>-0.300732</td>\n",
       "      <td>1</td>\n",
       "    </tr>\n",
       "    <tr>\n",
       "      <th>4</th>\n",
       "      <td>laughing</td>\n",
       "      <td>-0.454893</td>\n",
       "      <td>-0.535163</td>\n",
       "      <td>0.727751</td>\n",
       "      <td>1.762381</td>\n",
       "      <td>1.260309</td>\n",
       "      <td>0.518859</td>\n",
       "      <td>0.208178</td>\n",
       "      <td>-0.046787</td>\n",
       "      <td>-0.193898</td>\n",
       "      <td>...</td>\n",
       "      <td>1.474347</td>\n",
       "      <td>1.120399</td>\n",
       "      <td>-0.335964</td>\n",
       "      <td>-0.784294</td>\n",
       "      <td>-0.810802</td>\n",
       "      <td>-0.756698</td>\n",
       "      <td>-0.470692</td>\n",
       "      <td>-0.327966</td>\n",
       "      <td>-0.273044</td>\n",
       "      <td>0</td>\n",
       "    </tr>\n",
       "  </tbody>\n",
       "</table>\n",
       "<p>5 rows × 62 columns</p>\n",
       "</div>"
      ],
      "text/plain": [
       "           labels         1         2         3         4         5         6  \\\n",
       "0         snoring -0.496384 -1.017519 -1.305974 -1.163248 -0.953759 -0.846611   \n",
       "1        sneezing -0.481706 -1.001402 -1.289623 -1.141245 -0.920185 -0.776264   \n",
       "2        sneezing -0.096497  1.726121  1.029841 -0.485666 -0.613673 -0.630528   \n",
       "3  vacuum_cleaner -0.172727  0.424530  0.004935  0.074797  0.782584  1.888913   \n",
       "4        laughing -0.454893 -0.535163  0.727751  1.762381  1.260309  0.518859   \n",
       "\n",
       "          7         8         9  ...        52        53        54        55  \\\n",
       "0 -0.782664 -0.643258 -0.517495  ... -1.049416 -1.429132 -1.239480 -1.058453   \n",
       "1 -0.628868 -0.332101  0.072594  ... -1.043970 -1.424484 -1.233169 -1.043668   \n",
       "2 -0.538981 -0.389990 -0.264328  ...  0.334171  0.951098  0.728780  0.329547   \n",
       "3  2.800370  3.409028  4.083301  ... -0.423084  0.854053  1.407011  1.141826   \n",
       "4  0.208178 -0.046787 -0.193898  ...  1.474347  1.120399 -0.335964 -0.784294   \n",
       "\n",
       "         56        57        58        59        60  Group  \n",
       "0 -0.993017 -0.904144 -0.579901 -0.388052 -0.325784      2  \n",
       "1 -0.955109 -0.810030 -0.457182 -0.239676 -0.191296      2  \n",
       "2  0.108235 -0.133976 -0.356980 -0.330419 -0.315236      6  \n",
       "3  0.533828  0.037783 -0.310820 -0.373337 -0.300732      1  \n",
       "4 -0.810802 -0.756698 -0.470692 -0.327966 -0.273044      0  \n",
       "\n",
       "[5 rows x 62 columns]"
      ]
     },
     "execution_count": 65,
     "metadata": {},
     "output_type": "execute_result"
    }
   ],
   "source": [
    "dict_mapping = {0: 'breathing', 1: 'coughing', 2: 'footsteps', 3: 'laughing', 4: 'sneezing', 5: 'snoring', 6: 'toilet_flush', 7: 'vacuum_cleaner', 8: 'washing_machine'}\n",
    "\n",
    "# Store labels\n",
    "train_pd['Group'] = kmeans.labels_\n",
    "\n",
    "# rename the '0' column to 'labels'\n",
    "train_pd = train_pd.rename(columns={ 0: 'labels'})\n",
    "\n",
    "\n",
    "# # # Replace the values in 'labels' column with the dictionary mapping\n",
    "train_pd['labels'].replace(dict_mapping, inplace=True)\n",
    "\n",
    "\n",
    "train_pd.head()"
   ]
  },
  {
   "cell_type": "markdown",
   "id": "1c6d2654",
   "metadata": {},
   "source": [
    "I check how labels each group have and then define a maximum number in each group and that will represent a class of a group."
   ]
  },
  {
   "cell_type": "code",
   "execution_count": 66,
   "id": "f99bdd63",
   "metadata": {},
   "outputs": [
    {
     "name": "stdout",
     "output_type": "stream",
     "text": [
      "{0: 'laughing', 1: 'washing_machine', 2: 'footsteps', 3: 'sneezing', 4: 'footsteps', 5: 'laughing', 6: 'breathing', 7: 'snoring', 8: 'sneezing'}\n"
     ]
    }
   ],
   "source": [
    "result_dict = {}\n",
    "for groupNum in range(0, 9):\n",
    "    df_temp = train_pd.loc[(train_pd['Group'] == groupNum)]\n",
    "    groupsize = df_temp.groupby('labels').size()  \n",
    "    max_label = groupsize.idxmax()  # Get the label with the maximum value for each group\n",
    "    max_value = groupsize.max()\n",
    "    result_dict[groupNum] = max_label\n",
    "print(result_dict)\n"
   ]
  },
  {
   "cell_type": "code",
   "execution_count": 67,
   "id": "d4cb2bb1",
   "metadata": {},
   "outputs": [],
   "source": [
    "# Define the mapping dictionary - I need it to return my labels nack to numbers.\n",
    "\n",
    "dict_mapping_2 = {0.0: 'breathing', 1.0: 'coughing', 2.0: 'footsteps', 3.0: 'laughing', 4.0: 'sneezing', 5.0: 'snoring', 6.0: 'toilet_flush', 7.0: 'vacuum_cleaner', 8.0: 'washing_machine'}\n",
    "# dict_mapping_2 = {'breathing' : 1.0, 'coughing': 2.0, 'footsteps' : 3.0, 'laughing' : 4.0, 'sneezing' : 5.0, 'snoring' : 6.0, 'toilet_flush' : 7.0, 'vacuum_cleaner': 8.0, 'washing_machine' : 9.0}\n",
    "\n"
   ]
  },
  {
   "cell_type": "code",
   "execution_count": 68,
   "id": "87b87c23",
   "metadata": {},
   "outputs": [
    {
     "data": {
      "text/html": [
       "<div>\n",
       "<style scoped>\n",
       "    .dataframe tbody tr th:only-of-type {\n",
       "        vertical-align: middle;\n",
       "    }\n",
       "\n",
       "    .dataframe tbody tr th {\n",
       "        vertical-align: top;\n",
       "    }\n",
       "\n",
       "    .dataframe thead th {\n",
       "        text-align: right;\n",
       "    }\n",
       "</style>\n",
       "<table border=\"1\" class=\"dataframe\">\n",
       "  <thead>\n",
       "    <tr style=\"text-align: right;\">\n",
       "      <th></th>\n",
       "      <th>labels</th>\n",
       "      <th>1</th>\n",
       "      <th>2</th>\n",
       "      <th>3</th>\n",
       "      <th>4</th>\n",
       "      <th>5</th>\n",
       "      <th>6</th>\n",
       "      <th>7</th>\n",
       "      <th>8</th>\n",
       "      <th>9</th>\n",
       "      <th>...</th>\n",
       "      <th>52</th>\n",
       "      <th>53</th>\n",
       "      <th>54</th>\n",
       "      <th>55</th>\n",
       "      <th>56</th>\n",
       "      <th>57</th>\n",
       "      <th>58</th>\n",
       "      <th>59</th>\n",
       "      <th>60</th>\n",
       "      <th>Group</th>\n",
       "    </tr>\n",
       "  </thead>\n",
       "  <tbody>\n",
       "    <tr>\n",
       "      <th>0</th>\n",
       "      <td>coughing</td>\n",
       "      <td>0.477671</td>\n",
       "      <td>-0.229251</td>\n",
       "      <td>-0.057821</td>\n",
       "      <td>0.926248</td>\n",
       "      <td>1.470896</td>\n",
       "      <td>0.411162</td>\n",
       "      <td>0.118810</td>\n",
       "      <td>0.277810</td>\n",
       "      <td>0.441876</td>\n",
       "      <td>...</td>\n",
       "      <td>-0.141077</td>\n",
       "      <td>1.201073</td>\n",
       "      <td>1.041058</td>\n",
       "      <td>0.431894</td>\n",
       "      <td>0.060770</td>\n",
       "      <td>-0.224953</td>\n",
       "      <td>-0.308568</td>\n",
       "      <td>-0.319382</td>\n",
       "      <td>-0.304688</td>\n",
       "      <td>laughing</td>\n",
       "    </tr>\n",
       "    <tr>\n",
       "      <th>1</th>\n",
       "      <td>vacuum_cleaner</td>\n",
       "      <td>-0.311486</td>\n",
       "      <td>0.275194</td>\n",
       "      <td>0.972269</td>\n",
       "      <td>0.710043</td>\n",
       "      <td>0.387286</td>\n",
       "      <td>0.318129</td>\n",
       "      <td>0.453420</td>\n",
       "      <td>0.462850</td>\n",
       "      <td>-0.197705</td>\n",
       "      <td>...</td>\n",
       "      <td>0.283478</td>\n",
       "      <td>0.798635</td>\n",
       "      <td>0.808376</td>\n",
       "      <td>0.530928</td>\n",
       "      <td>0.232791</td>\n",
       "      <td>-0.092408</td>\n",
       "      <td>-0.362609</td>\n",
       "      <td>-0.335324</td>\n",
       "      <td>-0.312599</td>\n",
       "      <td>breathing</td>\n",
       "    </tr>\n",
       "    <tr>\n",
       "      <th>2</th>\n",
       "      <td>footsteps</td>\n",
       "      <td>-0.496091</td>\n",
       "      <td>-1.016568</td>\n",
       "      <td>-1.305392</td>\n",
       "      <td>-1.162413</td>\n",
       "      <td>-0.952309</td>\n",
       "      <td>-0.845007</td>\n",
       "      <td>-0.775390</td>\n",
       "      <td>-0.633955</td>\n",
       "      <td>-0.488943</td>\n",
       "      <td>...</td>\n",
       "      <td>-1.038209</td>\n",
       "      <td>-1.417460</td>\n",
       "      <td>-1.224076</td>\n",
       "      <td>-1.030922</td>\n",
       "      <td>-0.928350</td>\n",
       "      <td>-0.722190</td>\n",
       "      <td>-0.336715</td>\n",
       "      <td>-0.117051</td>\n",
       "      <td>-0.052853</td>\n",
       "      <td>footsteps</td>\n",
       "    </tr>\n",
       "    <tr>\n",
       "      <th>3</th>\n",
       "      <td>sneezing</td>\n",
       "      <td>-0.355815</td>\n",
       "      <td>1.008980</td>\n",
       "      <td>1.589043</td>\n",
       "      <td>0.187251</td>\n",
       "      <td>-0.619474</td>\n",
       "      <td>-0.760224</td>\n",
       "      <td>-0.725510</td>\n",
       "      <td>-0.591571</td>\n",
       "      <td>-0.408995</td>\n",
       "      <td>...</td>\n",
       "      <td>-0.285825</td>\n",
       "      <td>0.683254</td>\n",
       "      <td>1.195704</td>\n",
       "      <td>1.178661</td>\n",
       "      <td>1.036193</td>\n",
       "      <td>0.673839</td>\n",
       "      <td>0.038198</td>\n",
       "      <td>-0.191852</td>\n",
       "      <td>-0.234807</td>\n",
       "      <td>laughing</td>\n",
       "    </tr>\n",
       "    <tr>\n",
       "      <th>4</th>\n",
       "      <td>laughing</td>\n",
       "      <td>-0.454257</td>\n",
       "      <td>-0.166949</td>\n",
       "      <td>0.703727</td>\n",
       "      <td>1.181378</td>\n",
       "      <td>1.008452</td>\n",
       "      <td>1.128383</td>\n",
       "      <td>0.860252</td>\n",
       "      <td>0.055554</td>\n",
       "      <td>-0.150117</td>\n",
       "      <td>...</td>\n",
       "      <td>-0.021519</td>\n",
       "      <td>0.864847</td>\n",
       "      <td>0.993965</td>\n",
       "      <td>0.739319</td>\n",
       "      <td>0.381239</td>\n",
       "      <td>0.091114</td>\n",
       "      <td>-0.095780</td>\n",
       "      <td>-0.288726</td>\n",
       "      <td>-0.306006</td>\n",
       "      <td>laughing</td>\n",
       "    </tr>\n",
       "  </tbody>\n",
       "</table>\n",
       "<p>5 rows × 62 columns</p>\n",
       "</div>"
      ],
      "text/plain": [
       "           labels         1         2         3         4         5         6  \\\n",
       "0        coughing  0.477671 -0.229251 -0.057821  0.926248  1.470896  0.411162   \n",
       "1  vacuum_cleaner -0.311486  0.275194  0.972269  0.710043  0.387286  0.318129   \n",
       "2       footsteps -0.496091 -1.016568 -1.305392 -1.162413 -0.952309 -0.845007   \n",
       "3        sneezing -0.355815  1.008980  1.589043  0.187251 -0.619474 -0.760224   \n",
       "4        laughing -0.454257 -0.166949  0.703727  1.181378  1.008452  1.128383   \n",
       "\n",
       "          7         8         9  ...        52        53        54        55  \\\n",
       "0  0.118810  0.277810  0.441876  ... -0.141077  1.201073  1.041058  0.431894   \n",
       "1  0.453420  0.462850 -0.197705  ...  0.283478  0.798635  0.808376  0.530928   \n",
       "2 -0.775390 -0.633955 -0.488943  ... -1.038209 -1.417460 -1.224076 -1.030922   \n",
       "3 -0.725510 -0.591571 -0.408995  ... -0.285825  0.683254  1.195704  1.178661   \n",
       "4  0.860252  0.055554 -0.150117  ... -0.021519  0.864847  0.993965  0.739319   \n",
       "\n",
       "         56        57        58        59        60      Group  \n",
       "0  0.060770 -0.224953 -0.308568 -0.319382 -0.304688   laughing  \n",
       "1  0.232791 -0.092408 -0.362609 -0.335324 -0.312599  breathing  \n",
       "2 -0.928350 -0.722190 -0.336715 -0.117051 -0.052853  footsteps  \n",
       "3  1.036193  0.673839  0.038198 -0.191852 -0.234807   laughing  \n",
       "4  0.381239  0.091114 -0.095780 -0.288726 -0.306006   laughing  \n",
       "\n",
       "[5 rows x 62 columns]"
      ]
     },
     "execution_count": 68,
     "metadata": {},
     "output_type": "execute_result"
    }
   ],
   "source": [
    "# I feed the model with a train data, then conver to pandas for further manipulation\n",
    "y_pred = kmeans.predict(X_test)\n",
    "y_pred = np.vstack(y_pred)\n",
    "test_pd['Group'] = y_pred\n",
    "# print(test_pd.head(5))\n",
    "\n",
    "# The results of the prediction of a model in numbers replaced with new classes from result_dict\n",
    "test_pd.replace({\"Group\": result_dict}, inplace=True)\n",
    "# print(test_pd.head(5))\n",
    "\n",
    "# # rename the '0' column to 'labels'\n",
    "test_pd = test_pd.rename(columns={0 : 'labels'})\n",
    "\n",
    "#\n",
    "# Replace the values in 'labels' column with the dictionary mapping\n",
    "test_pd['labels'].replace(dict_mapping_2, inplace=True)\n",
    "\n",
    "\n",
    "test_pd.head()"
   ]
  },
  {
   "cell_type": "markdown",
   "id": "c605ba34",
   "metadata": {},
   "source": [
    "#### SECTION B. Results"
   ]
  },
  {
   "cell_type": "code",
   "execution_count": 69,
   "id": "5ed3ac2a",
   "metadata": {},
   "outputs": [
    {
     "name": "stdout",
     "output_type": "stream",
     "text": [
      "Accuracy: 0.18\n",
      "Silhouette score: 0.35\n"
     ]
    },
    {
     "data": {
      "image/png": "[encoded data removed]",
      "text/plain": [
       "<Figure size 864x432 with 2 Axes>"
      ]
     },
     "metadata": {
      "needs_background": "light"
     },
     "output_type": "display_data"
    }
   ],
   "source": [
    "# Now I do a comparison between columns: \"labels\" and \"Groups\", that are respectively y_test and y_pred.\n",
    "y_test = test_pd['labels']\n",
    "y_pred = test_pd['Group']\n",
    "labels = np.sort(test_pd['labels'].astype(str).unique())\n",
    "\n",
    "\n",
    "# Plot Confusiob Martix\n",
    "plt.figure(figsize=(12,6))\n",
    "cm = confusion_matrix(y_test, y_pred)\n",
    "ax = sns.heatmap(cm, annot=True, cmap='viridis')\n",
    "ax.set_yticklabels(labels, rotation = 0)\n",
    "ax.set_xticklabels(labels, rotation = 45)\n",
    "ax.set_xlabel('Predicted', fontsize=12, fontweight='bold')\n",
    "ax.set_ylabel('Actual', fontsize=12, fontweight='bold')\n",
    "\n",
    "accuracy = accuracy_score(y_test, y_pred)\n",
    "print('Accuracy: {:.2f}'.format(accuracy))\n",
    "\n",
    "silhouette_score = silhouette_score(X_train, labels_pred)\n",
    "print('Silhouette score: {:.2f}'.format(silhouette_score))\n"
   ]
  },
  {
   "cell_type": "code",
   "execution_count": 74,
   "id": "02414aea",
   "metadata": {},
   "outputs": [
    {
     "data": {
      "text/plain": [
       "<Figure size 864x432 with 0 Axes>"
      ]
     },
     "metadata": {},
     "output_type": "display_data"
    },
    {
     "data": {
      "image/png": "[encoded data removed]",
      "text/plain": [
       "<Figure size 864x432 with 2 Axes>"
      ]
     },
     "metadata": {
      "needs_background": "light"
     },
     "output_type": "display_data"
    }
   ],
   "source": [
    "# Define a list of colors for each category\n",
    "colors = plt.cm.get_cmap('rainbow', len(categories))\n",
    "\n",
    "# Calculate the confusion matrix\n",
    "plt.figure(figsize=(12,6))\n",
    "\n",
    "# Extract the True Positive and False Positive counts\n",
    "TP = np.diag(cm)\n",
    "FP = np.sum(cm, axis=0) - TP\n",
    "\n",
    "# Main plot and the color box axis\n",
    "fig, ax = plt.subplots(figsize=(12, 6))\n",
    "ax_cb = fig.add_axes([1, 0.1, 0.05, 0.8])\n",
    "\n",
    "# Plot the True Positives against False Positives + diff colors\n",
    "for i, category in enumerate(categories):\n",
    "    ax.plot(FP[i], TP[i], 'o', color=colors(i), label=category, markersize=12)\n",
    "\n",
    "# Set the axis labels and title\n",
    "ax.set_xlabel('False Positives')\n",
    "ax.set_ylabel('True Positives')\n",
    "ax.set_title('True Positives vs. False Positives')\n",
    "\n",
    "# Remove the ticks and labels from the color box axis\n",
    "ax_cb.set_xticks([])\n",
    "ax_cb.set_yticks([])\n",
    "ax_cb.set_frame_on(False)\n",
    "\n",
    "# Create the color box and add it to the color box axis\n",
    "color_box = ax_cb.imshow(np.arange(len(categories)).reshape(1, -1), cmap=plt.cm.get_cmap('rainbow', len(categories)), aspect='auto')\n",
    "color_bar = fig.colorbar(color_box, cax=ax_cb, ticks=np.arange(len(categories)))\n",
    "color_bar.ax.set_yticklabels(categories)\n",
    "\n",
    "plt.show()\n",
    "\n"
   ]
  },
  {
   "cell_type": "code",
   "execution_count": 73,
   "id": "ec0d57c0",
   "metadata": {},
   "outputs": [
    {
     "name": "stdout",
     "output_type": "stream",
     "text": [
      "Adjusted Rand Index: 0.011738589306121027\n"
     ]
    }
   ],
   "source": [
    "# Calculate the adjusted Rand index\n",
    "ari = metrics.adjusted_rand_score(y_test, y_pred)\n",
    "print(\"Adjusted Rand Index:\", ari)"
   ]
  },
  {
   "cell_type": "markdown",
   "id": "5ae247ab",
   "metadata": {},
   "source": [
    "## <div align=\"center\">Part 3. Conclusion</div>"
   ]
  },
  {
   "cell_type": "markdown",
   "id": "1299244a",
   "metadata": {},
   "source": [
    "1. Accuracy is 18% which is very low. Should be found another way of preprocessing data or this data is not sutable for clastering. At this point clustering fails.\n",
    "2. The Silhouette score ranges from -1 to 1, where a score closer to 1 indicates well-defined clusters, a score close to 0 indicates overlapping clusters, and a score close to -1 indicates misclassified points. Score of 0.35 according to the theory indicates that the clustering algorithm has produced somewhat meaningful clusters, but comparing to the accuracy and confusion matrix we can see the the clustering does not work properly.\n",
    "3.  In Confusion Matrix each class seems to be distributed across multiple clusters, which means that the clusters are not well-defined or separated. The classes \"breathing\", \"sneezing\", \"laughing\", \"footsteps\" and \"washing_machine\" are predicted  well, but with more misclassifications into other classes. The classes \"coughing\", \"toilet_flush\", \"snoring\", and \"vacuum_cleaner\" are more often misclassified into other classes.\n",
    "5. ARI is 0.017, which is a low score. There is very little similarity between the clusters assigned and the true labels of the data. "
   ]
  },
  {
   "cell_type": "markdown",
   "id": "f89279a1",
   "metadata": {},
   "source": [
    "The model is not able to accurately clustering the samples.\n",
    "**Reasons:**\n",
    "1. Centroids initialized in wrong places.\n",
    "2. Presence of outliers.\n",
    "3. Number of clusters.\n",
    "4. Data set."
   ]
  },
  {
   "cell_type": "markdown",
   "id": "d32a784a",
   "metadata": {},
   "source": [
    "I would  say that the problem lays somewhere in the dataset.\n",
    "However, highly likely some change with data preprocessing could possibly improve the model."
   ]
  },
  {
   "cell_type": "markdown",
   "id": "f5178641",
   "metadata": {},
   "source": [
    "## <div align=\"center\">K-Means vs SVM</div>"
   ]
  },
  {
   "cell_type": "markdown",
   "id": "31a51ab1",
   "metadata": {},
   "source": [
    "It looks like the performance of SVM is better because it has higher accuracy(27% vs 18%), true positive is also higher (58 vs 40). Moreover, K-Means could not identify: \"snoring\", \"toilet_flush\" and \"vacuu_cleaner\"."
   ]
  }
 ],
 "metadata": {
  "kernelspec": {
   "display_name": "Python 3 (ipykernel)",
   "language": "python",
   "name": "python3"
  },
  "language_info": {
   "codemirror_mode": {
    "name": "ipython",
    "version": 3
   },
   "file_extension": ".py",
   "mimetype": "text/x-python",
   "name": "python",
   "nbconvert_exporter": "python",
   "pygments_lexer": "ipython3",
   "version": "3.9.12"
  }
 },
 "nbformat": 4,
 "nbformat_minor": 5
}
