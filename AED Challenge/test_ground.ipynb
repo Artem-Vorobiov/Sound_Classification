{
 "cells": [
  {
   "cell_type": "code",
   "execution_count": 3,
   "id": "b651bcd4",
   "metadata": {},
   "outputs": [],
   "source": [
    "#Importing modules\n",
    "\n",
    "import os\n",
    "import numpy as np\n",
    "import pandas as pd\n",
    "from tables import *\n",
    "import h5py\n",
    "import matplotlib.pyplot as plt\n",
    "import seaborn as sns\n"
   ]
  },
  {
   "cell_type": "markdown",
   "id": "ef44c4f4",
   "metadata": {},
   "source": [
    "## <div align=\"center\">Start working with FILE data</div>"
   ]
  },
  {
   "cell_type": "markdown",
   "id": "76dec367",
   "metadata": {},
   "source": [
    "### The solution is only for s_tract. It should be scaled up to use: 'f_tract' and PTNE Labels"
   ]
  },
  {
   "cell_type": "markdown",
   "id": "9371e719",
   "metadata": {},
   "source": [
    "#### Read CSV. Chage .wav to .hdf5"
   ]
  },
  {
   "cell_type": "code",
   "execution_count": 4,
   "id": "6db29326",
   "metadata": {},
   "outputs": [
    {
     "ename": "FileNotFoundError",
     "evalue": "[Errno 2] No such file or directory: 'ESC50_Home/ESC-50-HumanClassification.csv'",
     "output_type": "error",
     "traceback": [
      "\u001b[0;31m---------------------------------------------------------------------------\u001b[0m",
      "\u001b[0;31mFileNotFoundError\u001b[0m                         Traceback (most recent call last)",
      "Input \u001b[0;32mIn [4]\u001b[0m, in \u001b[0;36m<cell line: 5>\u001b[0;34m()\u001b[0m\n\u001b[1;32m      2\u001b[0m csv_path\u001b[38;5;241m=\u001b[39mos\u001b[38;5;241m.\u001b[39mpath\u001b[38;5;241m.\u001b[39mjoin(\u001b[38;5;124m'\u001b[39m\u001b[38;5;124mESC50_Home\u001b[39m\u001b[38;5;124m'\u001b[39m,\u001b[38;5;124m'\u001b[39m\u001b[38;5;124mESC-50-HumanClassification.csv\u001b[39m\u001b[38;5;124m'\u001b[39m)\n\u001b[1;32m      4\u001b[0m \u001b[38;5;66;03m# read the CSV file into a DataFrame\u001b[39;00m\n\u001b[0;32m----> 5\u001b[0m df \u001b[38;5;241m=\u001b[39m \u001b[43mpd\u001b[49m\u001b[38;5;241;43m.\u001b[39;49m\u001b[43mread_csv\u001b[49m\u001b[43m(\u001b[49m\u001b[43mcsv_path\u001b[49m\u001b[43m)\u001b[49m\n\u001b[1;32m      7\u001b[0m \u001b[38;5;66;03m# check if all elements in the 'filename' column end with '.wav'\u001b[39;00m\n\u001b[1;32m      8\u001b[0m result \u001b[38;5;241m=\u001b[39m (df[\u001b[38;5;124m'\u001b[39m\u001b[38;5;124mfilename\u001b[39m\u001b[38;5;124m'\u001b[39m]\u001b[38;5;241m.\u001b[39mstr\u001b[38;5;241m.\u001b[39mendswith(\u001b[38;5;124m'\u001b[39m\u001b[38;5;124m.wav\u001b[39m\u001b[38;5;124m'\u001b[39m))\u001b[38;5;241m.\u001b[39mall()\n",
      "File \u001b[0;32m~/opt/anaconda3/lib/python3.9/site-packages/pandas/util/_decorators.py:311\u001b[0m, in \u001b[0;36mdeprecate_nonkeyword_arguments.<locals>.decorate.<locals>.wrapper\u001b[0;34m(*args, **kwargs)\u001b[0m\n\u001b[1;32m    305\u001b[0m \u001b[38;5;28;01mif\u001b[39;00m \u001b[38;5;28mlen\u001b[39m(args) \u001b[38;5;241m>\u001b[39m num_allow_args:\n\u001b[1;32m    306\u001b[0m     warnings\u001b[38;5;241m.\u001b[39mwarn(\n\u001b[1;32m    307\u001b[0m         msg\u001b[38;5;241m.\u001b[39mformat(arguments\u001b[38;5;241m=\u001b[39marguments),\n\u001b[1;32m    308\u001b[0m         \u001b[38;5;167;01mFutureWarning\u001b[39;00m,\n\u001b[1;32m    309\u001b[0m         stacklevel\u001b[38;5;241m=\u001b[39mstacklevel,\n\u001b[1;32m    310\u001b[0m     )\n\u001b[0;32m--> 311\u001b[0m \u001b[38;5;28;01mreturn\u001b[39;00m \u001b[43mfunc\u001b[49m\u001b[43m(\u001b[49m\u001b[38;5;241;43m*\u001b[39;49m\u001b[43margs\u001b[49m\u001b[43m,\u001b[49m\u001b[43m \u001b[49m\u001b[38;5;241;43m*\u001b[39;49m\u001b[38;5;241;43m*\u001b[39;49m\u001b[43mkwargs\u001b[49m\u001b[43m)\u001b[49m\n",
      "File \u001b[0;32m~/opt/anaconda3/lib/python3.9/site-packages/pandas/io/parsers/readers.py:680\u001b[0m, in \u001b[0;36mread_csv\u001b[0;34m(filepath_or_buffer, sep, delimiter, header, names, index_col, usecols, squeeze, prefix, mangle_dupe_cols, dtype, engine, converters, true_values, false_values, skipinitialspace, skiprows, skipfooter, nrows, na_values, keep_default_na, na_filter, verbose, skip_blank_lines, parse_dates, infer_datetime_format, keep_date_col, date_parser, dayfirst, cache_dates, iterator, chunksize, compression, thousands, decimal, lineterminator, quotechar, quoting, doublequote, escapechar, comment, encoding, encoding_errors, dialect, error_bad_lines, warn_bad_lines, on_bad_lines, delim_whitespace, low_memory, memory_map, float_precision, storage_options)\u001b[0m\n\u001b[1;32m    665\u001b[0m kwds_defaults \u001b[38;5;241m=\u001b[39m _refine_defaults_read(\n\u001b[1;32m    666\u001b[0m     dialect,\n\u001b[1;32m    667\u001b[0m     delimiter,\n\u001b[0;32m   (...)\u001b[0m\n\u001b[1;32m    676\u001b[0m     defaults\u001b[38;5;241m=\u001b[39m{\u001b[38;5;124m\"\u001b[39m\u001b[38;5;124mdelimiter\u001b[39m\u001b[38;5;124m\"\u001b[39m: \u001b[38;5;124m\"\u001b[39m\u001b[38;5;124m,\u001b[39m\u001b[38;5;124m\"\u001b[39m},\n\u001b[1;32m    677\u001b[0m )\n\u001b[1;32m    678\u001b[0m kwds\u001b[38;5;241m.\u001b[39mupdate(kwds_defaults)\n\u001b[0;32m--> 680\u001b[0m \u001b[38;5;28;01mreturn\u001b[39;00m \u001b[43m_read\u001b[49m\u001b[43m(\u001b[49m\u001b[43mfilepath_or_buffer\u001b[49m\u001b[43m,\u001b[49m\u001b[43m \u001b[49m\u001b[43mkwds\u001b[49m\u001b[43m)\u001b[49m\n",
      "File \u001b[0;32m~/opt/anaconda3/lib/python3.9/site-packages/pandas/io/parsers/readers.py:575\u001b[0m, in \u001b[0;36m_read\u001b[0;34m(filepath_or_buffer, kwds)\u001b[0m\n\u001b[1;32m    572\u001b[0m _validate_names(kwds\u001b[38;5;241m.\u001b[39mget(\u001b[38;5;124m\"\u001b[39m\u001b[38;5;124mnames\u001b[39m\u001b[38;5;124m\"\u001b[39m, \u001b[38;5;28;01mNone\u001b[39;00m))\n\u001b[1;32m    574\u001b[0m \u001b[38;5;66;03m# Create the parser.\u001b[39;00m\n\u001b[0;32m--> 575\u001b[0m parser \u001b[38;5;241m=\u001b[39m \u001b[43mTextFileReader\u001b[49m\u001b[43m(\u001b[49m\u001b[43mfilepath_or_buffer\u001b[49m\u001b[43m,\u001b[49m\u001b[43m \u001b[49m\u001b[38;5;241;43m*\u001b[39;49m\u001b[38;5;241;43m*\u001b[39;49m\u001b[43mkwds\u001b[49m\u001b[43m)\u001b[49m\n\u001b[1;32m    577\u001b[0m \u001b[38;5;28;01mif\u001b[39;00m chunksize \u001b[38;5;129;01mor\u001b[39;00m iterator:\n\u001b[1;32m    578\u001b[0m     \u001b[38;5;28;01mreturn\u001b[39;00m parser\n",
      "File \u001b[0;32m~/opt/anaconda3/lib/python3.9/site-packages/pandas/io/parsers/readers.py:933\u001b[0m, in \u001b[0;36mTextFileReader.__init__\u001b[0;34m(self, f, engine, **kwds)\u001b[0m\n\u001b[1;32m    930\u001b[0m     \u001b[38;5;28mself\u001b[39m\u001b[38;5;241m.\u001b[39moptions[\u001b[38;5;124m\"\u001b[39m\u001b[38;5;124mhas_index_names\u001b[39m\u001b[38;5;124m\"\u001b[39m] \u001b[38;5;241m=\u001b[39m kwds[\u001b[38;5;124m\"\u001b[39m\u001b[38;5;124mhas_index_names\u001b[39m\u001b[38;5;124m\"\u001b[39m]\n\u001b[1;32m    932\u001b[0m \u001b[38;5;28mself\u001b[39m\u001b[38;5;241m.\u001b[39mhandles: IOHandles \u001b[38;5;241m|\u001b[39m \u001b[38;5;28;01mNone\u001b[39;00m \u001b[38;5;241m=\u001b[39m \u001b[38;5;28;01mNone\u001b[39;00m\n\u001b[0;32m--> 933\u001b[0m \u001b[38;5;28mself\u001b[39m\u001b[38;5;241m.\u001b[39m_engine \u001b[38;5;241m=\u001b[39m \u001b[38;5;28;43mself\u001b[39;49m\u001b[38;5;241;43m.\u001b[39;49m\u001b[43m_make_engine\u001b[49m\u001b[43m(\u001b[49m\u001b[43mf\u001b[49m\u001b[43m,\u001b[49m\u001b[43m \u001b[49m\u001b[38;5;28;43mself\u001b[39;49m\u001b[38;5;241;43m.\u001b[39;49m\u001b[43mengine\u001b[49m\u001b[43m)\u001b[49m\n",
      "File \u001b[0;32m~/opt/anaconda3/lib/python3.9/site-packages/pandas/io/parsers/readers.py:1217\u001b[0m, in \u001b[0;36mTextFileReader._make_engine\u001b[0;34m(self, f, engine)\u001b[0m\n\u001b[1;32m   1213\u001b[0m     mode \u001b[38;5;241m=\u001b[39m \u001b[38;5;124m\"\u001b[39m\u001b[38;5;124mrb\u001b[39m\u001b[38;5;124m\"\u001b[39m\n\u001b[1;32m   1214\u001b[0m \u001b[38;5;66;03m# error: No overload variant of \"get_handle\" matches argument types\u001b[39;00m\n\u001b[1;32m   1215\u001b[0m \u001b[38;5;66;03m# \"Union[str, PathLike[str], ReadCsvBuffer[bytes], ReadCsvBuffer[str]]\"\u001b[39;00m\n\u001b[1;32m   1216\u001b[0m \u001b[38;5;66;03m# , \"str\", \"bool\", \"Any\", \"Any\", \"Any\", \"Any\", \"Any\"\u001b[39;00m\n\u001b[0;32m-> 1217\u001b[0m \u001b[38;5;28mself\u001b[39m\u001b[38;5;241m.\u001b[39mhandles \u001b[38;5;241m=\u001b[39m \u001b[43mget_handle\u001b[49m\u001b[43m(\u001b[49m\u001b[43m  \u001b[49m\u001b[38;5;66;43;03m# type: ignore[call-overload]\u001b[39;49;00m\n\u001b[1;32m   1218\u001b[0m \u001b[43m    \u001b[49m\u001b[43mf\u001b[49m\u001b[43m,\u001b[49m\n\u001b[1;32m   1219\u001b[0m \u001b[43m    \u001b[49m\u001b[43mmode\u001b[49m\u001b[43m,\u001b[49m\n\u001b[1;32m   1220\u001b[0m \u001b[43m    \u001b[49m\u001b[43mencoding\u001b[49m\u001b[38;5;241;43m=\u001b[39;49m\u001b[38;5;28;43mself\u001b[39;49m\u001b[38;5;241;43m.\u001b[39;49m\u001b[43moptions\u001b[49m\u001b[38;5;241;43m.\u001b[39;49m\u001b[43mget\u001b[49m\u001b[43m(\u001b[49m\u001b[38;5;124;43m\"\u001b[39;49m\u001b[38;5;124;43mencoding\u001b[39;49m\u001b[38;5;124;43m\"\u001b[39;49m\u001b[43m,\u001b[49m\u001b[43m \u001b[49m\u001b[38;5;28;43;01mNone\u001b[39;49;00m\u001b[43m)\u001b[49m\u001b[43m,\u001b[49m\n\u001b[1;32m   1221\u001b[0m \u001b[43m    \u001b[49m\u001b[43mcompression\u001b[49m\u001b[38;5;241;43m=\u001b[39;49m\u001b[38;5;28;43mself\u001b[39;49m\u001b[38;5;241;43m.\u001b[39;49m\u001b[43moptions\u001b[49m\u001b[38;5;241;43m.\u001b[39;49m\u001b[43mget\u001b[49m\u001b[43m(\u001b[49m\u001b[38;5;124;43m\"\u001b[39;49m\u001b[38;5;124;43mcompression\u001b[39;49m\u001b[38;5;124;43m\"\u001b[39;49m\u001b[43m,\u001b[49m\u001b[43m \u001b[49m\u001b[38;5;28;43;01mNone\u001b[39;49;00m\u001b[43m)\u001b[49m\u001b[43m,\u001b[49m\n\u001b[1;32m   1222\u001b[0m \u001b[43m    \u001b[49m\u001b[43mmemory_map\u001b[49m\u001b[38;5;241;43m=\u001b[39;49m\u001b[38;5;28;43mself\u001b[39;49m\u001b[38;5;241;43m.\u001b[39;49m\u001b[43moptions\u001b[49m\u001b[38;5;241;43m.\u001b[39;49m\u001b[43mget\u001b[49m\u001b[43m(\u001b[49m\u001b[38;5;124;43m\"\u001b[39;49m\u001b[38;5;124;43mmemory_map\u001b[39;49m\u001b[38;5;124;43m\"\u001b[39;49m\u001b[43m,\u001b[49m\u001b[43m \u001b[49m\u001b[38;5;28;43;01mFalse\u001b[39;49;00m\u001b[43m)\u001b[49m\u001b[43m,\u001b[49m\n\u001b[1;32m   1223\u001b[0m \u001b[43m    \u001b[49m\u001b[43mis_text\u001b[49m\u001b[38;5;241;43m=\u001b[39;49m\u001b[43mis_text\u001b[49m\u001b[43m,\u001b[49m\n\u001b[1;32m   1224\u001b[0m \u001b[43m    \u001b[49m\u001b[43merrors\u001b[49m\u001b[38;5;241;43m=\u001b[39;49m\u001b[38;5;28;43mself\u001b[39;49m\u001b[38;5;241;43m.\u001b[39;49m\u001b[43moptions\u001b[49m\u001b[38;5;241;43m.\u001b[39;49m\u001b[43mget\u001b[49m\u001b[43m(\u001b[49m\u001b[38;5;124;43m\"\u001b[39;49m\u001b[38;5;124;43mencoding_errors\u001b[39;49m\u001b[38;5;124;43m\"\u001b[39;49m\u001b[43m,\u001b[49m\u001b[43m \u001b[49m\u001b[38;5;124;43m\"\u001b[39;49m\u001b[38;5;124;43mstrict\u001b[39;49m\u001b[38;5;124;43m\"\u001b[39;49m\u001b[43m)\u001b[49m\u001b[43m,\u001b[49m\n\u001b[1;32m   1225\u001b[0m \u001b[43m    \u001b[49m\u001b[43mstorage_options\u001b[49m\u001b[38;5;241;43m=\u001b[39;49m\u001b[38;5;28;43mself\u001b[39;49m\u001b[38;5;241;43m.\u001b[39;49m\u001b[43moptions\u001b[49m\u001b[38;5;241;43m.\u001b[39;49m\u001b[43mget\u001b[49m\u001b[43m(\u001b[49m\u001b[38;5;124;43m\"\u001b[39;49m\u001b[38;5;124;43mstorage_options\u001b[39;49m\u001b[38;5;124;43m\"\u001b[39;49m\u001b[43m,\u001b[49m\u001b[43m \u001b[49m\u001b[38;5;28;43;01mNone\u001b[39;49;00m\u001b[43m)\u001b[49m\u001b[43m,\u001b[49m\n\u001b[1;32m   1226\u001b[0m \u001b[43m\u001b[49m\u001b[43m)\u001b[49m\n\u001b[1;32m   1227\u001b[0m \u001b[38;5;28;01massert\u001b[39;00m \u001b[38;5;28mself\u001b[39m\u001b[38;5;241m.\u001b[39mhandles \u001b[38;5;129;01mis\u001b[39;00m \u001b[38;5;129;01mnot\u001b[39;00m \u001b[38;5;28;01mNone\u001b[39;00m\n\u001b[1;32m   1228\u001b[0m f \u001b[38;5;241m=\u001b[39m \u001b[38;5;28mself\u001b[39m\u001b[38;5;241m.\u001b[39mhandles\u001b[38;5;241m.\u001b[39mhandle\n",
      "File \u001b[0;32m~/opt/anaconda3/lib/python3.9/site-packages/pandas/io/common.py:789\u001b[0m, in \u001b[0;36mget_handle\u001b[0;34m(path_or_buf, mode, encoding, compression, memory_map, is_text, errors, storage_options)\u001b[0m\n\u001b[1;32m    784\u001b[0m \u001b[38;5;28;01melif\u001b[39;00m \u001b[38;5;28misinstance\u001b[39m(handle, \u001b[38;5;28mstr\u001b[39m):\n\u001b[1;32m    785\u001b[0m     \u001b[38;5;66;03m# Check whether the filename is to be opened in binary mode.\u001b[39;00m\n\u001b[1;32m    786\u001b[0m     \u001b[38;5;66;03m# Binary mode does not support 'encoding' and 'newline'.\u001b[39;00m\n\u001b[1;32m    787\u001b[0m     \u001b[38;5;28;01mif\u001b[39;00m ioargs\u001b[38;5;241m.\u001b[39mencoding \u001b[38;5;129;01mand\u001b[39;00m \u001b[38;5;124m\"\u001b[39m\u001b[38;5;124mb\u001b[39m\u001b[38;5;124m\"\u001b[39m \u001b[38;5;129;01mnot\u001b[39;00m \u001b[38;5;129;01min\u001b[39;00m ioargs\u001b[38;5;241m.\u001b[39mmode:\n\u001b[1;32m    788\u001b[0m         \u001b[38;5;66;03m# Encoding\u001b[39;00m\n\u001b[0;32m--> 789\u001b[0m         handle \u001b[38;5;241m=\u001b[39m \u001b[38;5;28;43mopen\u001b[39;49m\u001b[43m(\u001b[49m\n\u001b[1;32m    790\u001b[0m \u001b[43m            \u001b[49m\u001b[43mhandle\u001b[49m\u001b[43m,\u001b[49m\n\u001b[1;32m    791\u001b[0m \u001b[43m            \u001b[49m\u001b[43mioargs\u001b[49m\u001b[38;5;241;43m.\u001b[39;49m\u001b[43mmode\u001b[49m\u001b[43m,\u001b[49m\n\u001b[1;32m    792\u001b[0m \u001b[43m            \u001b[49m\u001b[43mencoding\u001b[49m\u001b[38;5;241;43m=\u001b[39;49m\u001b[43mioargs\u001b[49m\u001b[38;5;241;43m.\u001b[39;49m\u001b[43mencoding\u001b[49m\u001b[43m,\u001b[49m\n\u001b[1;32m    793\u001b[0m \u001b[43m            \u001b[49m\u001b[43merrors\u001b[49m\u001b[38;5;241;43m=\u001b[39;49m\u001b[43merrors\u001b[49m\u001b[43m,\u001b[49m\n\u001b[1;32m    794\u001b[0m \u001b[43m            \u001b[49m\u001b[43mnewline\u001b[49m\u001b[38;5;241;43m=\u001b[39;49m\u001b[38;5;124;43m\"\u001b[39;49m\u001b[38;5;124;43m\"\u001b[39;49m\u001b[43m,\u001b[49m\n\u001b[1;32m    795\u001b[0m \u001b[43m        \u001b[49m\u001b[43m)\u001b[49m\n\u001b[1;32m    796\u001b[0m     \u001b[38;5;28;01melse\u001b[39;00m:\n\u001b[1;32m    797\u001b[0m         \u001b[38;5;66;03m# Binary mode\u001b[39;00m\n\u001b[1;32m    798\u001b[0m         handle \u001b[38;5;241m=\u001b[39m \u001b[38;5;28mopen\u001b[39m(handle, ioargs\u001b[38;5;241m.\u001b[39mmode)\n",
      "\u001b[0;31mFileNotFoundError\u001b[0m: [Errno 2] No such file or directory: 'ESC50_Home/ESC-50-HumanClassification.csv'"
     ]
    }
   ],
   "source": [
    "# specify YOUR PATH to the CSV file\n",
    "csv_path=os.path.join('ESC50_Home','ESC-50-HumanClassification.csv')\n",
    "\n",
    "# read the CSV file into a DataFrame\n",
    "df = pd.read_csv(csv_path)\n",
    "\n",
    "# check if all elements in the 'filename' column end with '.wav'\n",
    "result = (df['filename'].str.endswith('.wav')).all()\n",
    "\n",
    "# print the result\n",
    "print(result)\n",
    "\n",
    "# replace '.wav' with '.hdf5' in the 'filename' column\n",
    "df['filename'] = df['filename'].str.replace('.wav', '.hdf5')"
   ]
  },
  {
   "cell_type": "markdown",
   "id": "401c7726",
   "metadata": {},
   "source": [
    "#### Read categories from csv file"
   ]
  },
  {
   "cell_type": "code",
   "execution_count": null,
   "id": "40a40a27",
   "metadata": {},
   "outputs": [],
   "source": [
    "unique_categories = df['category'].unique()\n",
    "\n",
    "# print the unique categories\n",
    "print(unique_categories)\n",
    "\n",
    "count_of_unique_categories = df['category'].nunique()\n",
    "print(count_of_unique_categories)\n",
    "print(\"\")\n",
    "print(\"Completed\")"
   ]
  },
  {
   "cell_type": "code",
   "execution_count": null,
   "id": "e27905f3",
   "metadata": {},
   "outputs": [],
   "source": [
    "# list of categories taken from a blackboard\n",
    "categories = [\n",
    "    'Breathing',\n",
    "    'Coughing',\n",
    "    'Footsteps',\n",
    "    'Laughing',\n",
    "    'Sneezing',\n",
    "    'Snoring',\n",
    "    'Toilet_flush',\n",
    "    'Vacuum_cleaner',\n",
    "    'Washing_machine',\n",
    "]\n",
    "\n",
    "# change the capital letter to lowercase\n",
    "categories = [category.lower() for category in categories]\n",
    "\n",
    "# print the modified list\n",
    "print(categories)\n",
    "print(\"\")\n",
    "print(\"Completed\")\n",
    "\n",
    "%timeit"
   ]
  },
  {
   "cell_type": "markdown",
   "id": "bedd9a32",
   "metadata": {},
   "source": [
    "#### Make a dictionary with keys=categories and values=category_element"
   ]
  },
  {
   "cell_type": "code",
   "execution_count": null,
   "id": "d748a163",
   "metadata": {},
   "outputs": [],
   "source": [
    "# Create empty dict for storing filenames for each category\n",
    "filenames_by_category  = {}\n",
    "number_of_files = 0\n",
    "\n",
    "# iterate over the categories\n",
    "for category in categories:\n",
    "    # get all the filenames for the current category\n",
    "    filenames = df.loc[df['category'].isin([category]), 'filename'].values.tolist()\n",
    "    number_of_files += len(filenames)\n",
    "    # create a key-value pair in the dictionary with the current category as the key and the list of filenames as the value\n",
    "    filenames_by_category[category] = filenames\n",
    "\n",
    "print(\"The number of files %f\" %number_of_files)\n",
    "print(\"Completed\")"
   ]
  },
  {
   "cell_type": "markdown",
   "id": "58bf13c5",
   "metadata": {},
   "source": [
    "#### Make a dictionary with keys=categories and values=path_to_element"
   ]
  },
  {
   "cell_type": "code",
   "execution_count": null,
   "id": "c561a9f5",
   "metadata": {},
   "outputs": [],
   "source": [
    "# Create empty dict for storing paths to files for each category\n",
    "hdf5_paths_per_category = {}\n",
    "\n",
    "# In order to control the flow of the code and not miss a change I keep trck on the number of files.\n",
    "counter_files = 0\n",
    "counter_categories = 0 \n",
    "\n",
    "\n",
    "# iterate over the categories\n",
    "for category in categories:\n",
    "    counter_categories += 1\n",
    "    \n",
    "    # Create an empty list where I store paths for one type of category\n",
    "    all_paths_for_same_category = list()\n",
    "    \n",
    "    # iterate over the list that belongs to exact category\n",
    "    for i in filenames_by_category[category]:\n",
    "        counter_files += 1\n",
    "        \n",
    "        # Create variable that store a single path\n",
    "        # CHANGE TO YOUR PATH\n",
    "        temp_hdf5_path=os.path.join('ESC50_Home', 'tracts', i)\n",
    "        \n",
    "        # Store paths for one type of category in a list.\n",
    "        # With the new category the list will be updated to 0\n",
    "        all_paths_for_same_category.append(temp_hdf5_path)\n",
    "        \n",
    "    # Store a list according to the category\n",
    "    hdf5_paths_per_category[category] = all_paths_for_same_category\n",
    "\n",
    "\n",
    "print(type(hdf5_paths_per_category[\"snoring\"]))\n",
    "print(len(hdf5_paths_per_category[\"snoring\"]))\n",
    "\n",
    "print(\"The number of categories %f\" %counter_categories)\n",
    "print(\"The number of files %f\" %counter_files)\n",
    "print(\"Completed\")"
   ]
  },
  {
   "cell_type": "markdown",
   "id": "6fd53021",
   "metadata": {},
   "source": [
    "## <div align=\"center\">Prepare functions</div>"
   ]
  },
  {
   "cell_type": "markdown",
   "id": "087cac6d",
   "metadata": {},
   "source": [
    "### Functions for features"
   ]
  },
  {
   "cell_type": "code",
   "execution_count": null,
   "id": "a8addb86",
   "metadata": {},
   "outputs": [],
   "source": [
    "def create_arr_all_files_of_category(category_name):\n",
    "    \"\"\" This code extracts data from hdf5 files, access the s_tract dataset in each file,  \n",
    "    and append a portion of that data to a list called list_of_data\"\"\"\n",
    "    \n",
    "    counter_files = 0\n",
    "    list_of_data = list() # Create list. Here we will store all arrays for 1 category\n",
    "    \n",
    "    for i in hdf5_paths_per_category[category_name]:\n",
    "        \n",
    "        # Here we iterate over every file of one category\n",
    "        with h5py.File(i, 'r') as f:\n",
    "            \n",
    "            # access the \"s_tract\" dataset in the file\n",
    "            # s_tract has shape (100, 8497), class 'numpy.ndarray\n",
    "            s_tract = f['s_tract'][()]\n",
    "            # Append a file and get rid of zeros in the bottom and in the top\n",
    "            list_of_data.append(s_tract[6:-6,:])\n",
    "        \n",
    "        counter_files += 1\n",
    "        \n",
    "    print(\"Completed\")\n",
    "    return list_of_data"
   ]
  },
  {
   "cell_type": "markdown",
   "id": "8ec034da",
   "metadata": {},
   "source": [
    "## Here we extract features from a histogram"
   ]
  },
  {
   "cell_type": "code",
   "execution_count": null,
   "id": "0e7e6f13",
   "metadata": {},
   "outputs": [],
   "source": [
    "def hist_and_bins(array):\n",
    "    \"\"\"Should receive flat array.\n",
    "    The input is an array with a shape of (88, 8497) or (88, 8498).\n",
    "    The output will be features. The number of features depends on how many bins you define\"\"\"\n",
    "    \n",
    "    # I keep feature consistency\n",
    "#     arr = array\n",
    "    arr = array[array <= 200] # Here I delete all the value in array greater than 90.\n",
    "    # I do it because after I check the original histogram(the graph) based on visual observation\n",
    "    # I decided to cut off values greater than \n",
    "    \n",
    "    # You can decide by yourself if you want to cut of. If you decide to cut of then you need to rearrange bins\n",
    "    # That are in the following line\n",
    "    \n",
    "    bins = [5,50,90] # 2 features --> You can change to 2 features, go to SVM part uncoment Plotting part and see the plot. \n",
    "# the plot works only with 2 features.\n",
    "    bins = [0,25,50,100] # 2\n",
    "#     bins = [0, 22.5, 45, 67.5, 90] # 4 features\n",
    "#     bins = [0, 20, 40, 60, 80, 100, 120] # 5 features\n",
    "    \n",
    "    # Compute histogram\n",
    "    # We extract bin, but we do not use it in the future.\n",
    "    features, bins = np.histogram(arr, bins=bins) \n",
    "    \n",
    "    # Extract frequency from each bin\n",
    "#     print(\"Bin Edges: \", bins)\n",
    "#     print(\"Frequency: \", features)\n",
    "    return features"
   ]
  },
  {
   "cell_type": "code",
   "execution_count": null,
   "id": "44d152c2",
   "metadata": {},
   "outputs": [],
   "source": [
    "def flatten_and_get_features_from_hist(arr):\n",
    "    # Part of the hist_and_bin function\n",
    "    feature_new = list()\n",
    "    \n",
    "    # Array is a list of 40 elements\n",
    "    for i in arr:\n",
    "        # i is np array with a shape of (88, 8498)\n",
    "        \n",
    "        k = i.flatten() # make np array flat\n",
    "        hist_feature = hist_and_bins(k) # get features from a histogram\n",
    "        \n",
    "        feature_new.append(hist_feature) # store in the list\n",
    "        \n",
    "    print(\"Completed flatten_and_get_features_from_hist\")   \n",
    "    return feature_new"
   ]
  },
  {
   "cell_type": "code",
   "execution_count": null,
   "id": "37be38bc",
   "metadata": {},
   "outputs": [],
   "source": [
    "def split_arrat_func(file_2D_data, sep_number):\n",
    "    \n",
    "    # Preparation before splitting\n",
    "    length_of_data = len(file_2D_data)\n",
    "    sub_arr_size = length_of_data // sep_number\n",
    "    safe_separate = sub_arr_size * sep_number\n",
    "    \n",
    "    # The main part - splitting\n",
    "    splited_lists = np.split(np.array(file_2D_data[:safe_separate]), sep_number)\n",
    "    \n",
    "#     print(\"Completed - split_arrat_func()\")\n",
    "#     print(\"\")\n",
    "    return splited_lists\n",
    "    "
   ]
  },
  {
   "cell_type": "code",
   "execution_count": null,
   "id": "b74e346a",
   "metadata": {},
   "outputs": [],
   "source": [
    "def get_feature(splited_array):\n",
    "    list_of_features = np.array([]) # 1\n",
    "#     list_of_features = list() # 2\n",
    "    # Features consistency cut out the border.\n",
    "    \n",
    "    for i in splited_array:\n",
    "        arr_one_flat = i.flatten() # 246413\n",
    "        hist1, bins1 = np.histogram(arr_one_flat,bins=10)\n",
    "#         list_of_features.append(hist1)\n",
    "        list_of_features = np.append(list_of_features, hist1) # 1\n",
    "\n",
    "    \n",
    "#     list_of_features = np.array(list_of_features) # 2\n",
    "    \n",
    "    return list_of_features"
   ]
  },
  {
   "cell_type": "markdown",
   "id": "7caca4f3",
   "metadata": {},
   "source": [
    "###  Let's wrap everything together into the prep to SVM function"
   ]
  },
  {
   "cell_type": "code",
   "execution_count": 1,
   "id": "c1edf7a7",
   "metadata": {},
   "outputs": [],
   "source": [
    "def prepare_data_for_SVM(array_with_catigories):\n",
    "# def prepare_data_for_SVM(array_with_catigories, num_of_features):\n",
    "    \n",
    "    label_array = list() # For collecting labels\n",
    "    num_label = 0 # Every iteration of a category num_label will +1 and label_array will recieve new values\n",
    "    \n",
    "    all_categories_features = list() # Global array for features\n",
    "    \n",
    "    for i in array_with_catigories:\n",
    "        print(\"\")\n",
    "        print(\"Category : \", i)\n",
    "        one_category_features = list() # Local array for features only for one category \n",
    "\n",
    "        arr_all_files_one_category = create_arr_all_files_of_category(i) # List, all of 40 files of ine category. One array has shape ((88, 8498))\n",
    "        \n",
    "        # Get access to individual file (88, 8498)\n",
    "        for i in arr_all_files_one_category:\n",
    "            \n",
    "            splited_lists = split_arrat_func(i, 3) # list (3). Every element has a shape (27,8498)   \n",
    "            hey = get_feature(splited_lists) #  np.array - get features for one file - for example (30,)\n",
    "            one_category_features.append(hey) # list - store features in the list\n",
    "            \n",
    "        one_category_features = np.array(one_category_features) # (40, 30) - feature set(30) for 40 samples - one category\n",
    "        all_categories_features.append(one_category_features) # store seatures set in a list. Len will be 9.\n",
    "\n",
    "        label_1 = np.zeros(len(arr_all_files_one_category), dtype=int) + num_label\n",
    "\n",
    "        label_array.append(label_1) \n",
    "        \n",
    "        num_label += 1\n",
    "        \n",
    "    print(\"Saving...\")"
   ]
  },
  {
   "cell_type": "markdown",
   "id": "d8257d2f",
   "metadata": {},
   "source": [
    "### Create features and labels"
   ]
  },
  {
   "cell_type": "code",
   "execution_count": null,
   "id": "a78c21f8",
   "metadata": {},
   "outputs": [],
   "source": [
    "features_array,label_array = prepare_data_for_SVM(categories) # \"FULLTEST\""
   ]
  },
  {
   "cell_type": "code",
   "execution_count": null,
   "id": "801a61b3",
   "metadata": {},
   "outputs": [],
   "source": [
    "# Check the shapes if they're ready to feed SVM\n",
    "\n",
    "print(features_array.shape)\n",
    "print(label_array.shape)\n",
    "print(type(features_array))\n",
    "print(type(label_array))\n",
    "print(\"Cool\")"
   ]
  },
  {
   "cell_type": "markdown",
   "id": "36b77693",
   "metadata": {},
   "source": [
    "### Test SVM"
   ]
  },
  {
   "cell_type": "code",
   "execution_count": null,
   "id": "256bca67",
   "metadata": {},
   "outputs": [],
   "source": []
  },
  {
   "cell_type": "code",
   "execution_count": null,
   "id": "e90b1921",
   "metadata": {},
   "outputs": [],
   "source": [
    "# Sklearn modules & classes\n",
    "from sklearn.linear_model import Perceptron, LogisticRegression\n",
    "from sklearn.svm import SVC\n",
    "from sklearn.model_selection import train_test_split\n",
    "from sklearn.preprocessing import StandardScaler\n",
    "from sklearn import datasets\n",
    "from sklearn import metrics\n",
    "\n",
    "from mlxtend.plotting import plot_decision_regions\n",
    "from sklearn.metrics import confusion_matrix\n",
    "from sklearn.metrics import classification_report\n",
    "from sklearn.metrics import accuracy_score\n",
    "\n",
    "\n",
    "\n",
    "X = features_array\n",
    "y = label_array\n",
    "print(X.shape)\n",
    "print(y.shape)\n",
    "\n",
    "# Create training and test split\n",
    "X_train, X_test, y_train, y_test = train_test_split(X, y, test_size=0.2, random_state=1, stratify=y)\n",
    "\n",
    "\n",
    "sc = StandardScaler()\n",
    "sc.fit(X_train)\n",
    "\n",
    "X_train_std = sc.transform(X_train)\n",
    "X_test_std = sc.transform(X_test)\n",
    "\n",
    "# 'rbf', 'poly', 'sigmoid', 'linear'\n",
    "# degree=3\n",
    "# Instantiate the Support Vector Classifier (SVC)\n",
    "svc = SVC(C=1.0, random_state=10, kernel='poly')\n",
    " \n",
    "# Fit the model\n",
    "svc.fit(X_train_std, y_train)\n",
    "\n",
    "\n",
    "# Make the predictions\n",
    "y_predict = svc.predict(X_test_std)\n",
    "\n",
    "###################################### PLOTTING #############################\n",
    "# # Visualize the decision regions\n",
    "# plt.figure(figsize=(12,6))\n",
    "# plot_decision_regions(X_train_std, y_train, clf=svc, legend=2)\n",
    "\n",
    "# # Add the support vectors\n",
    "# plt.scatter(svc.support_vectors_[:, 0],\n",
    "#             svc.support_vectors_[:, 1],\n",
    "#             s=700, facecolors='none')\n",
    "\n",
    "# # Add the axis labels\n",
    "# plt.xlabel('x1')\n",
    "# plt.ylabel('x2')\n",
    "\n",
    "# # Show the plot\n",
    "# plt.show()\n",
    "############################################################################\n",
    "acc_score = accuracy_score(y_test, y_predict)\n",
    "\n",
    "cm = confusion_matrix(y_test, y_predict)\n",
    "\n",
    "# Extract the values from the confusion matrix\n",
    "TP = cm[0][0]\n",
    "FP = cm[0][1]\n",
    "FN = cm[1][0]\n",
    "TN = cm[1][1]\n",
    "\n",
    "# Calculate the accuracy of the model\n",
    "accuracy = (TP + TN) / (TP + TN + FP + FN)\n",
    "\n",
    "print(\"True Positives:\", TP)\n",
    "print(\"False Positives:\", FP)\n",
    "print(\"True Negatives:\", TN)\n",
    "print(\"False Negatives:\", FN)\n",
    "print(\"Accuracy:\", accuracy)\n",
    "\n",
    "print(\"\")\n",
    "print(\"\")\n",
    "cr = classification_report(y_test, y_predict)\n",
    "print(cr)\n",
    "\n",
    "print(\"\")\n",
    "# Plot the confusion matrix using seaborn\n",
    "sns.heatmap(cm,annot=True,fmt='d',cmap='Blues')\n",
    "plt.xlabel('Predicted')\n",
    "plt.ylabel('True')\n",
    "plt.show()"
   ]
  }
 ],
 "metadata": {
  "kernelspec": {
   "display_name": "Python 3 (ipykernel)",
   "language": "python",
   "name": "python3"
  },
  "language_info": {
   "codemirror_mode": {
    "name": "ipython",
    "version": 3
   },
   "file_extension": ".py",
   "mimetype": "text/x-python",
   "name": "python",
   "nbconvert_exporter": "python",
   "pygments_lexer": "ipython3",
   "version": "3.9.12"
  }
 },
 "nbformat": 4,
 "nbformat_minor": 5
}
