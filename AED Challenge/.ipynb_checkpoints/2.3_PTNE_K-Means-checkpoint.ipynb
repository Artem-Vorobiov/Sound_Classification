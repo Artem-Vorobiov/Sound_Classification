{
 "cells": [
  {
   "cell_type": "markdown",
   "id": "0f197d2f",
   "metadata": {},
   "source": [
    "## <div align=\"center\">K-Means</div>"
   ]
  },
  {
   "cell_type": "code",
   "execution_count": 1,
   "id": "322ec7a3",
   "metadata": {},
   "outputs": [],
   "source": [
    "import os\n",
    "import numpy as np\n",
    "import pandas as pd\n",
    "from tables import *\n",
    "import h5py\n",
    "import matplotlib.pyplot as plt\n",
    "import seaborn as sns\n",
    "from sklearn.cluster import KMeans\n",
    "from sklearn import metrics"
   ]
  },
  {
   "cell_type": "markdown",
   "id": "118d3327",
   "metadata": {},
   "source": [
    "### INTRODUCTION: in this Jupyter Notebook I will do clustering analysis with K-Means."
   ]
  },
  {
   "cell_type": "markdown",
   "id": "65026896",
   "metadata": {},
   "source": [
    "### Part 1.  Elbow Method\n",
    "### Part 2.  Multidimensional K-Means\n",
    "### Part 3.  Conclusion"
   ]
  },
  {
   "cell_type": "markdown",
   "id": "ef44c4f4",
   "metadata": {},
   "source": [
    "## <div align=\"center\">Part 1. Elbow Method</div>"
   ]
  },
  {
   "cell_type": "markdown",
   "id": "e3da7cef",
   "metadata": {},
   "source": [
    "Elbow method can help me determine the optimal number of clusters, which can help me avoid underfitting or overfitting my data."
   ]
  },
  {
   "cell_type": "code",
   "execution_count": 2,
   "id": "4862d4b3",
   "metadata": {},
   "outputs": [],
   "source": [
    "# Load my data\n",
    "features_array = np.load('features_array_ptne_1.0.npy')\n",
    "label_array = np.load('label_array_ptne_1.0.npy')"
   ]
  },
  {
   "cell_type": "code",
   "execution_count": 3,
   "id": "4c81bcb9",
   "metadata": {},
   "outputs": [],
   "source": [
    "categories = ['breathing', 'coughing', 'footsteps', 'laughing', 'sneezing', 'snoring', 'toilet_flush', 'vacuum_cleaner', 'washing_machine']"
   ]
  },
  {
   "cell_type": "code",
   "execution_count": 4,
   "id": "efa1d580",
   "metadata": {},
   "outputs": [
    {
     "data": {
      "image/png": "[encoded data removed]",
      "text/plain": [
       "<Figure size 432x288 with 1 Axes>"
      ]
     },
     "metadata": {
      "needs_background": "light"
     },
     "output_type": "display_data"
    }
   ],
   "source": [
    "# Calculate the within-cluster sum of squared errors (SSE) for different values of k\n",
    "\n",
    "sse = []\n",
    "for k in range(1, 18):\n",
    "    kmeans = KMeans(n_clusters=k)\n",
    "    kmeans.fit(features_array)\n",
    "    sse.append(kmeans.inertia_)\n",
    "\n",
    "# Plot the SSE values against the number of clusters (k)\n",
    "plt.plot(range(1, 18), sse, marker='o')\n",
    "plt.xlabel('Number of clusters (k)')\n",
    "plt.ylabel('SSE')\n",
    "plt.title('Elbow Method')\n",
    "plt.show()\n"
   ]
  },
  {
   "cell_type": "markdown",
   "id": "6de8acb0",
   "metadata": {},
   "source": [
    "Looking at the graph I would chose 4 clusters because for me it's an \"elbow\", but I know the number of clusters, which is 9, and I will go with 9."
   ]
  },
  {
   "cell_type": "markdown",
   "id": "7e94887a",
   "metadata": {},
   "source": [
    "## <div align=\"center\">Part 2. Multidimensional K-Means</div>"
   ]
  },
  {
   "cell_type": "markdown",
   "id": "03305732",
   "metadata": {},
   "source": [
    "#### SECTION A. Data preparation"
   ]
  },
  {
   "cell_type": "code",
   "execution_count": 5,
   "id": "18b153ed",
   "metadata": {},
   "outputs": [],
   "source": [
    "from sklearn.preprocessing import StandardScaler\n",
    "from sklearn.model_selection import train_test_split\n",
    "from sklearn.metrics import accuracy_score, classification_report, confusion_matrix\n",
    "from sklearn.metrics import silhouette_score\n",
    "\n",
    "\n",
    "X = features_array\n",
    "y = label_array\n",
    "\n",
    "scaler = StandardScaler()\n",
    "X = scaler.fit_transform(X)\n",
    "\n",
    "# Split data\n",
    "X_train, X_test, y_train, y_test = train_test_split(X, y, test_size=0.2, random_state=10)"
   ]
  },
  {
   "cell_type": "markdown",
   "id": "6f71863e",
   "metadata": {},
   "source": [
    "In order to see the performace of K-Means, I need to prepare(label) test and train data. Thus when appply a test set to our K-Means  I could compare if the predicted cluster matches with the real cluster.( because the data is labeled)"
   ]
  },
  {
   "cell_type": "code",
   "execution_count": 6,
   "id": "207d066b",
   "metadata": {},
   "outputs": [
    {
     "data": {
      "text/html": [
       "<div>\n",
       "<style scoped>\n",
       "    .dataframe tbody tr th:only-of-type {\n",
       "        vertical-align: middle;\n",
       "    }\n",
       "\n",
       "    .dataframe tbody tr th {\n",
       "        vertical-align: top;\n",
       "    }\n",
       "\n",
       "    .dataframe thead th {\n",
       "        text-align: right;\n",
       "    }\n",
       "</style>\n",
       "<table border=\"1\" class=\"dataframe\">\n",
       "  <thead>\n",
       "    <tr style=\"text-align: right;\">\n",
       "      <th></th>\n",
       "      <th>0</th>\n",
       "      <th>1</th>\n",
       "      <th>2</th>\n",
       "      <th>3</th>\n",
       "      <th>4</th>\n",
       "    </tr>\n",
       "  </thead>\n",
       "  <tbody>\n",
       "    <tr>\n",
       "      <th>0</th>\n",
       "      <td>2.0</td>\n",
       "      <td>-0.861425</td>\n",
       "      <td>0.163850</td>\n",
       "      <td>2.256630</td>\n",
       "      <td>-1.231536</td>\n",
       "    </tr>\n",
       "    <tr>\n",
       "      <th>1</th>\n",
       "      <td>0.0</td>\n",
       "      <td>1.112573</td>\n",
       "      <td>-1.074755</td>\n",
       "      <td>-1.072615</td>\n",
       "      <td>0.813643</td>\n",
       "    </tr>\n",
       "    <tr>\n",
       "      <th>2</th>\n",
       "      <td>5.0</td>\n",
       "      <td>1.855265</td>\n",
       "      <td>-0.466318</td>\n",
       "      <td>-0.483769</td>\n",
       "      <td>-0.989633</td>\n",
       "    </tr>\n",
       "    <tr>\n",
       "      <th>3</th>\n",
       "      <td>8.0</td>\n",
       "      <td>-0.939603</td>\n",
       "      <td>-1.139945</td>\n",
       "      <td>-0.211994</td>\n",
       "      <td>2.572936</td>\n",
       "    </tr>\n",
       "    <tr>\n",
       "      <th>4</th>\n",
       "      <td>3.0</td>\n",
       "      <td>-0.431446</td>\n",
       "      <td>-0.466318</td>\n",
       "      <td>0.829811</td>\n",
       "      <td>0.307846</td>\n",
       "    </tr>\n",
       "  </tbody>\n",
       "</table>\n",
       "</div>"
      ],
      "text/plain": [
       "     0         1         2         3         4\n",
       "0  2.0 -0.861425  0.163850  2.256630 -1.231536\n",
       "1  0.0  1.112573 -1.074755 -1.072615  0.813643\n",
       "2  5.0  1.855265 -0.466318 -0.483769 -0.989633\n",
       "3  8.0 -0.939603 -1.139945 -0.211994  2.572936\n",
       "4  3.0 -0.431446 -0.466318  0.829811  0.307846"
      ]
     },
     "execution_count": 6,
     "metadata": {},
     "output_type": "execute_result"
    }
   ],
   "source": [
    "# Train Data preparation \n",
    "y_train = np.vstack(y_train)\n",
    "train_sum_up = np.hstack([y_train, X_train])\n",
    "train_pd = pd.DataFrame(train_sum_up)\n",
    "\n",
    "# Test Data preparation \n",
    "y_test = np.vstack(y_test)\n",
    "test_sum_up = np.hstack([y_test, X_test])\n",
    "test_pd = pd.DataFrame(test_sum_up)\n",
    "train_pd.head()"
   ]
  },
  {
   "cell_type": "code",
   "execution_count": 7,
   "id": "c1fd755d",
   "metadata": {},
   "outputs": [
    {
     "data": {
      "text/plain": [
       "KMeans(n_clusters=9)"
      ]
     },
     "execution_count": 7,
     "metadata": {},
     "output_type": "execute_result"
    }
   ],
   "source": [
    "# Train model\n",
    "kmeans = KMeans(n_clusters=9)\n",
    "kmeans.fit(X_train)\n"
   ]
  },
  {
   "cell_type": "markdown",
   "id": "28453cc8",
   "metadata": {},
   "source": [
    "Lets see  Mean distance from centroid, it might give me alsready some insight."
   ]
  },
  {
   "cell_type": "code",
   "execution_count": 8,
   "id": "a171a3f7",
   "metadata": {},
   "outputs": [
    {
     "name": "stdout",
     "output_type": "stream",
     "text": [
      "Cluster 0: Mean distance from centroid = 0.7375076017788262\n",
      "Cluster 1: Mean distance from centroid = 0.7450519004427695\n",
      "Cluster 2: Mean distance from centroid = 0.6973157235836838\n",
      "Cluster 3: Mean distance from centroid = 0.8078407185461353\n",
      "Cluster 4: Mean distance from centroid = 0.727986186298782\n",
      "Cluster 5: Mean distance from centroid = 0.6441278769024034\n",
      "Cluster 6: Mean distance from centroid = 0.8193576322867173\n",
      "Cluster 7: Mean distance from centroid = 0.7178980062066824\n",
      "Cluster 8: Mean distance from centroid = 1.062641287953945\n"
     ]
    }
   ],
   "source": [
    "from sklearn.metrics import pairwise_distances\n",
    "\n",
    "# Get the cluster labels and centroid coordinates\n",
    "labels_pred = kmeans.labels_\n",
    "centroids = kmeans.cluster_centers_\n",
    "\n",
    "# Compute the distances between each data point and its assigned centroid\n",
    "distances = pairwise_distances(X_train, centroids)\n",
    "\n",
    "# Print the mean distance of each cluster from its centroid\n",
    "for i in range(9):\n",
    "    mean_distance = np.mean(distances[labels_pred == i, i])\n",
    "    print(\"Cluster {}: Mean distance from centroid = {}\".format(i, mean_distance))"
   ]
  },
  {
   "cell_type": "markdown",
   "id": "2a2038d9",
   "metadata": {},
   "source": [
    "Clusters with smaller mean distances from their centroids (mean distance of 0.64) indicate that the data points in the cluster are tightly packed around their centroid, and the centroid is a good representative of the cluster.  0, 1, 2, 4, 5, 7  are close to each other, maybe these clusters can be separated from each other."
   ]
  },
  {
   "cell_type": "code",
   "execution_count": 9,
   "id": "3889e907",
   "metadata": {},
   "outputs": [
    {
     "data": {
      "text/html": [
       "<div>\n",
       "<style scoped>\n",
       "    .dataframe tbody tr th:only-of-type {\n",
       "        vertical-align: middle;\n",
       "    }\n",
       "\n",
       "    .dataframe tbody tr th {\n",
       "        vertical-align: top;\n",
       "    }\n",
       "\n",
       "    .dataframe thead th {\n",
       "        text-align: right;\n",
       "    }\n",
       "</style>\n",
       "<table border=\"1\" class=\"dataframe\">\n",
       "  <thead>\n",
       "    <tr style=\"text-align: right;\">\n",
       "      <th></th>\n",
       "      <th>labels</th>\n",
       "      <th>1</th>\n",
       "      <th>2</th>\n",
       "      <th>3</th>\n",
       "      <th>4</th>\n",
       "      <th>Group</th>\n",
       "    </tr>\n",
       "  </thead>\n",
       "  <tbody>\n",
       "    <tr>\n",
       "      <th>0</th>\n",
       "      <td>footsteps</td>\n",
       "      <td>-0.861425</td>\n",
       "      <td>0.163850</td>\n",
       "      <td>2.256630</td>\n",
       "      <td>-1.231536</td>\n",
       "      <td>1</td>\n",
       "    </tr>\n",
       "    <tr>\n",
       "      <th>1</th>\n",
       "      <td>breathing</td>\n",
       "      <td>1.112573</td>\n",
       "      <td>-1.074755</td>\n",
       "      <td>-1.072615</td>\n",
       "      <td>0.813643</td>\n",
       "      <td>8</td>\n",
       "    </tr>\n",
       "    <tr>\n",
       "      <th>2</th>\n",
       "      <td>snoring</td>\n",
       "      <td>1.855265</td>\n",
       "      <td>-0.466318</td>\n",
       "      <td>-0.483769</td>\n",
       "      <td>-0.989633</td>\n",
       "      <td>2</td>\n",
       "    </tr>\n",
       "    <tr>\n",
       "      <th>3</th>\n",
       "      <td>washing_machine</td>\n",
       "      <td>-0.939603</td>\n",
       "      <td>-1.139945</td>\n",
       "      <td>-0.211994</td>\n",
       "      <td>2.572936</td>\n",
       "      <td>3</td>\n",
       "    </tr>\n",
       "    <tr>\n",
       "      <th>4</th>\n",
       "      <td>laughing</td>\n",
       "      <td>-0.431446</td>\n",
       "      <td>-0.466318</td>\n",
       "      <td>0.829811</td>\n",
       "      <td>0.307846</td>\n",
       "      <td>4</td>\n",
       "    </tr>\n",
       "  </tbody>\n",
       "</table>\n",
       "</div>"
      ],
      "text/plain": [
       "            labels         1         2         3         4  Group\n",
       "0        footsteps -0.861425  0.163850  2.256630 -1.231536      1\n",
       "1        breathing  1.112573 -1.074755 -1.072615  0.813643      8\n",
       "2          snoring  1.855265 -0.466318 -0.483769 -0.989633      2\n",
       "3  washing_machine -0.939603 -1.139945 -0.211994  2.572936      3\n",
       "4         laughing -0.431446 -0.466318  0.829811  0.307846      4"
      ]
     },
     "execution_count": 9,
     "metadata": {},
     "output_type": "execute_result"
    }
   ],
   "source": [
    "dict_mapping = {0: 'breathing', 1: 'coughing', 2: 'footsteps', 3: 'laughing', 4: 'sneezing', 5: 'snoring', 6: 'toilet_flush', 7: 'vacuum_cleaner', 8: 'washing_machine'}\n",
    "\n",
    "# Store labels\n",
    "train_pd['Group'] = kmeans.labels_\n",
    "\n",
    "# rename the 'feature1' column to 'labels'\n",
    "train_pd = train_pd.rename(columns={ 0: 'labels'})\n",
    "\n",
    "\n",
    "# # # Replace the values in 'sound_name' column with the dictionary mapping\n",
    "train_pd['labels'].replace(dict_mapping, inplace=True)\n",
    "\n",
    "\n",
    "train_pd.head()"
   ]
  },
  {
   "cell_type": "markdown",
   "id": "1c6d2654",
   "metadata": {},
   "source": [
    "I check how labels each group have and then define a maximum number in each group and that will represent a class of a group."
   ]
  },
  {
   "cell_type": "code",
   "execution_count": 10,
   "id": "f99bdd63",
   "metadata": {},
   "outputs": [
    {
     "name": "stdout",
     "output_type": "stream",
     "text": [
      "{0: 'footsteps', 1: 'washing_machine', 2: 'sneezing', 3: 'vacuum_cleaner', 4: 'toilet_flush', 5: 'breathing', 6: 'snoring', 7: 'sneezing', 8: 'vacuum_cleaner'}\n"
     ]
    }
   ],
   "source": [
    "result_dict = {}\n",
    "for groupNum in range(0, 9):\n",
    "    df_temp = train_pd.loc[(train_pd['Group'] == groupNum)]\n",
    "    groupsize = df_temp.groupby('labels').size()  \n",
    "    max_label = groupsize.idxmax()  # Get the label with the maximum value for each group\n",
    "    max_value = groupsize.max()\n",
    "    result_dict[groupNum] = max_label\n",
    "print(result_dict)\n"
   ]
  },
  {
   "cell_type": "code",
   "execution_count": 11,
   "id": "d4cb2bb1",
   "metadata": {},
   "outputs": [],
   "source": [
    "# Define the mapping dictionary - I need it to return my labels bavk to numbers.\n",
    "\n",
    "dict_mapping_2 = {0.0: 'breathing', 1.0: 'coughing', 2.0: 'footsteps', 3.0: 'laughing', 4.0: 'sneezing', 5.0: 'snoring', 6.0: 'toilet_flush', 7.0: 'vacuum_cleaner', 8.0: 'washing_machine'}\n",
    "# dict_mapping_2 = {'breathing' : 1.0, 'coughing': 2.0, 'footsteps' : 3.0, 'laughing' : 4.0, 'sneezing' : 5.0, 'snoring' : 6.0, 'toilet_flush' : 7.0, 'vacuum_cleaner': 8.0, 'washing_machine' : 9.0}\n",
    "\n"
   ]
  },
  {
   "cell_type": "code",
   "execution_count": 12,
   "id": "87b87c23",
   "metadata": {},
   "outputs": [
    {
     "data": {
      "text/html": [
       "<div>\n",
       "<style scoped>\n",
       "    .dataframe tbody tr th:only-of-type {\n",
       "        vertical-align: middle;\n",
       "    }\n",
       "\n",
       "    .dataframe tbody tr th {\n",
       "        vertical-align: top;\n",
       "    }\n",
       "\n",
       "    .dataframe thead th {\n",
       "        text-align: right;\n",
       "    }\n",
       "</style>\n",
       "<table border=\"1\" class=\"dataframe\">\n",
       "  <thead>\n",
       "    <tr style=\"text-align: right;\">\n",
       "      <th></th>\n",
       "      <th>labels</th>\n",
       "      <th>1</th>\n",
       "      <th>2</th>\n",
       "      <th>3</th>\n",
       "      <th>4</th>\n",
       "      <th>Group</th>\n",
       "    </tr>\n",
       "  </thead>\n",
       "  <tbody>\n",
       "    <tr>\n",
       "      <th>0</th>\n",
       "      <td>snoring</td>\n",
       "      <td>-0.783247</td>\n",
       "      <td>0.076930</td>\n",
       "      <td>1.305417</td>\n",
       "      <td>-0.307907</td>\n",
       "      <td>breathing</td>\n",
       "    </tr>\n",
       "    <tr>\n",
       "      <th>1</th>\n",
       "      <td>breathing</td>\n",
       "      <td>-0.607346</td>\n",
       "      <td>-0.509778</td>\n",
       "      <td>0.807163</td>\n",
       "      <td>0.571740</td>\n",
       "      <td>toilet_flush</td>\n",
       "    </tr>\n",
       "    <tr>\n",
       "      <th>2</th>\n",
       "      <td>sneezing</td>\n",
       "      <td>-0.998237</td>\n",
       "      <td>0.989586</td>\n",
       "      <td>0.467444</td>\n",
       "      <td>-0.263925</td>\n",
       "      <td>breathing</td>\n",
       "    </tr>\n",
       "    <tr>\n",
       "      <th>3</th>\n",
       "      <td>laughing</td>\n",
       "      <td>1.874809</td>\n",
       "      <td>-0.705347</td>\n",
       "      <td>-0.664953</td>\n",
       "      <td>-0.593792</td>\n",
       "      <td>sneezing</td>\n",
       "    </tr>\n",
       "    <tr>\n",
       "      <th>4</th>\n",
       "      <td>laughing</td>\n",
       "      <td>0.721682</td>\n",
       "      <td>-0.140369</td>\n",
       "      <td>0.308908</td>\n",
       "      <td>-0.813704</td>\n",
       "      <td>snoring</td>\n",
       "    </tr>\n",
       "  </tbody>\n",
       "</table>\n",
       "</div>"
      ],
      "text/plain": [
       "      labels         1         2         3         4         Group\n",
       "0    snoring -0.783247  0.076930  1.305417 -0.307907     breathing\n",
       "1  breathing -0.607346 -0.509778  0.807163  0.571740  toilet_flush\n",
       "2   sneezing -0.998237  0.989586  0.467444 -0.263925     breathing\n",
       "3   laughing  1.874809 -0.705347 -0.664953 -0.593792      sneezing\n",
       "4   laughing  0.721682 -0.140369  0.308908 -0.813704       snoring"
      ]
     },
     "execution_count": 12,
     "metadata": {},
     "output_type": "execute_result"
    }
   ],
   "source": [
    "# I feed the model with a train data, then conver to pandas for further manipulation\n",
    "y_pred = kmeans.predict(X_test)\n",
    "y_pred = np.vstack(y_pred)\n",
    "test_pd['Group'] = y_pred\n",
    "# print(test_pd.head(5))\n",
    "\n",
    "# The results of the prediction of a model in numbers replaced with new classes from result_dict\n",
    "test_pd.replace({\"Group\": result_dict}, inplace=True)\n",
    "# print(test_pd.head(5))\n",
    "\n",
    "# # rename the '0' column to 'labels'\n",
    "test_pd = test_pd.rename(columns={0 : 'labels'})\n",
    "\n",
    "#\n",
    "# Replace the values in 'labels' column with the dictionary mapping\n",
    "test_pd['labels'].replace(dict_mapping_2, inplace=True)\n",
    "\n",
    "\n",
    "test_pd.head()"
   ]
  },
  {
   "cell_type": "markdown",
   "id": "c605ba34",
   "metadata": {},
   "source": [
    "#### SECTION B. Results"
   ]
  },
  {
   "cell_type": "code",
   "execution_count": 13,
   "id": "5ed3ac2a",
   "metadata": {},
   "outputs": [
    {
     "name": "stdout",
     "output_type": "stream",
     "text": [
      "Accuracy: 0.27\n",
      "Silhouette score: 0.30\n"
     ]
    },
    {
     "data": {
      "image/png": "[encoded data removed]",
      "text/plain": [
       "<Figure size 864x432 with 2 Axes>"
      ]
     },
     "metadata": {
      "needs_background": "light"
     },
     "output_type": "display_data"
    }
   ],
   "source": [
    "# Now I do a comparison between columns: \"labels\" and \"Groups\", that are respectively y_test and y_pred.\n",
    "y_test = test_pd['labels']\n",
    "y_pred = test_pd['Group']\n",
    "labels = np.sort(test_pd['labels'].astype(str).unique())\n",
    "\n",
    "\n",
    "plt.figure(figsize=(12,6))\n",
    "cm = confusion_matrix(y_test, y_pred)\n",
    "ax = sns.heatmap(cm, annot=True, cmap='viridis')\n",
    "ax.set_yticklabels(labels, rotation = 0)\n",
    "ax.set_xticklabels(labels, rotation = 45)\n",
    "ax.set_xlabel('Predicted', fontsize=12, fontweight='bold')\n",
    "ax.set_ylabel('Actual', fontsize=12, fontweight='bold')\n",
    "\n",
    "accuracy = accuracy_score(y_test, y_pred)\n",
    "print('Accuracy: {:.2f}'.format(accuracy))\n",
    "\n",
    "silhouette_score = silhouette_score(X_train, labels_pred)\n",
    "print('Silhouette score: {:.2f}'.format(silhouette_score))\n"
   ]
  },
  {
   "cell_type": "code",
   "execution_count": 14,
   "id": "0a23551d",
   "metadata": {},
   "outputs": [
    {
     "name": "stdout",
     "output_type": "stream",
     "text": [
      "[[ 6  0  2  0  6  3  6  4  2]\n",
      " [ 2  0  3  0  9  3  4  1  1]\n",
      " [ 4  0  8  0  4  2  2  1  7]\n",
      " [ 4  0  5  0  5  6  8  5  3]\n",
      " [ 3  0  4  0 18  5  1  0  1]\n",
      " [ 4  0 10  0 13  5  3  3  2]\n",
      " [ 0  0  1  0  0  0 16 13  5]\n",
      " [ 0  0  0  0  0  0 10 20  3]\n",
      " [ 9  0  8  0  0  1  7  1  6]]\n"
     ]
    }
   ],
   "source": [
    "print(cm)"
   ]
  },
  {
   "cell_type": "code",
   "execution_count": 15,
   "id": "ec0d57c0",
   "metadata": {},
   "outputs": [
    {
     "name": "stdout",
     "output_type": "stream",
     "text": [
      "Adjusted Rand Index: 0.08961644124269315\n"
     ]
    }
   ],
   "source": [
    "# Calculate the adjusted Rand index\n",
    "ari = metrics.adjusted_rand_score(y_test, y_pred)\n",
    "print(\"Adjusted Rand Index:\", ari)"
   ]
  },
  {
   "cell_type": "markdown",
   "id": "5ae247ab",
   "metadata": {},
   "source": [
    "## <div align=\"center\">Part 3. Conclusion</div>"
   ]
  },
  {
   "cell_type": "markdown",
   "id": "1299244a",
   "metadata": {},
   "source": [
    "1. Accuracy is 27% which is very low. Should be found another way of preprocessing data or this data is not sutable for clastering. At this point clustering fails.\n",
    "2. The Silhouette score ranges from -1 to 1, where a score closer to 1 indicates well-defined clusters, a score close to 0 indicates overlapping clusters, and a score close to -1 indicates misclassified points. Score of 0.30 according to the theory indicates that the clustering algorithm has produced somewhat meaningful clusters, but comparing to the accuracy and confusion matrix we can see the the clustering does not work properly.\n",
    "3.  In Confusion Matrix each class seems to be distributed across multiple clusters, which means that the clusters are not well-defined or separated.  The classes \"coughing\" and \"laughing\" have  low numbers of correctly classified values. The class \"toilet_flush\" also has a low number of correct classifications, but \"washing_machine\" has a high number of correctly classified instances same as \"vacuum_cleaner\".\n",
    "4. ARI is 0.089, which is a low score. There is very little similarity between the clusters assigned and the true labels of the data. "
   ]
  },
  {
   "cell_type": "markdown",
   "id": "f89279a1",
   "metadata": {},
   "source": [
    "The model is not able to accurately clustering the samples.\n",
    "**Reasons:**\n",
    "1. Centroids initialized in wrong places.\n",
    "2. Presence of outliers.\n",
    "3. Number of clusters.\n",
    "4. Data set."
   ]
  },
  {
   "cell_type": "markdown",
   "id": "d32a784a",
   "metadata": {},
   "source": [
    "I would  say that the problem lays somewhere in the dataset.\n",
    "However, highly likely some change with data preprocessing could possibly improve the model."
   ]
  }
 ],
 "metadata": {
  "kernelspec": {
   "display_name": "Python 3 (ipykernel)",
   "language": "python",
   "name": "python3"
  },
  "language_info": {
   "codemirror_mode": {
    "name": "ipython",
    "version": 3
   },
   "file_extension": ".py",
   "mimetype": "text/x-python",
   "name": "python",
   "nbconvert_exporter": "python",
   "pygments_lexer": "ipython3",
   "version": "3.9.12"
  }
 },
 "nbformat": 4,
 "nbformat_minor": 5
}
