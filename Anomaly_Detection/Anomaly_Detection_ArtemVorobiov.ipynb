{
 "cells": [
  {
   "cell_type": "markdown",
   "id": "9fc815ac",
   "metadata": {},
   "source": [
    "## <div align=\"center\">Anomaly detection</div>"
   ]
  },
  {
   "cell_type": "markdown",
   "id": "f9d96179",
   "metadata": {},
   "source": [
    "Three categories of anomalies are:\n",
    "1. Point Anomalies: Data instances that are anomalous in the feature space compared to the rest of the data points.(Example: credit card fraud detection) \n",
    "2. Contextual Anomalies: Data instances that are anomalous when they occur in a specific context, but not in another context.\n",
    "3. Collective Anomalies: Groups of data instances that are considered anomalous only when taken together.\n",
    "\n",
    "### Task 1.\n",
    "THe task is to analys sound from 250 sleeping rooms. It looks like first two situations are **Point Anomalies** because they represent individual data instances that are anomalous compared to the rest of the data points:\n",
    "\n",
    "- Patient singing at 2am: It is an unusual sound pattern compared to the normal sleep sounds that would be expected at 2am.\n",
    "- Aggressive shouting: This represents a sudden increase in volume compared to the typical sound levels.\n",
    "\n",
    "\n",
    "May 4 commemoration of the dead: This might be a **Contextual Anomaly** because specific time is mentioned and this day is different for different cucltures."
   ]
  },
  {
   "cell_type": "markdown",
   "id": "0a8a2d0e",
   "metadata": {},
   "source": [
    "### Task 2.\n",
    "If May 4 commemoration of the dead is a Contextual Anomaly the **Contextual Attributes** could be:\n",
    "\n",
    "- Time: The exact day, May 4th, each year.\n",
    "- Cultural or historical context: The even is connected to cultural or historical context, for example in Ukraine we celebrate Day of Mourning and Commemoration of the victims of WW2 on June 22.\n",
    "- Location: Usually the events occure even at the same locations and countries. \n",
    "\n",
    "**Behavioral Attributes** the contextual attributes could be:\n",
    "\n",
    "- Unusual sounds: Most of the time sleeping rooms have some repetitive sounds patterns, but the sound of the event (such as chanting, singing, or speeches) may be different.\n",
    "\n",
    "- Sudden increase in volume: The event may involve a sudden increase in sound levels.\n",
    "\n",
    "- Short duration: The event might be short"
   ]
  },
  {
   "cell_type": "markdown",
   "id": "3c79efa9",
   "metadata": {},
   "source": [
    "### Task 3.\n",
    "Motivations for the follwoing problems:\n",
    "\n",
    "**Aggression detection** is a Point Anomaly.  This represents a sudden increase in volume compared to the typical sound levels. I would first try classification. This is because classification is a supervised technique, so I can train it using labeled data and orginize it in binary classification problem (aggressive vs non-aggressive).\n",
    "The disadvantage of classification techniques could be sensitivity to the choice of features. The most informative feature should be found.\n",
    "\n",
    "For **seizure detection** I would first try unsupervised technique because I need to identify patterns.\n",
    "It may be necessary to try several different clustering techniques and distance metrics to identify the optimal approach for seizure detection from pressure sensor data.\n",
    "\n",
    "For **car or bike ball bearing monitoring** through acceleration sensors, the technique I would first try is the Fourier transform. I can analyze the frequency of a signal. If the bearing has problem, then I will see unusual vibration on the graph. \n",
    "Combining spectral analysis with other techniques such as clustering or classification can help make detection of a problem more clear."
   ]
  }
 ],
 "metadata": {
  "kernelspec": {
   "display_name": "Python 3 (ipykernel)",
   "language": "python",
   "name": "python3"
  },
  "language_info": {
   "codemirror_mode": {
    "name": "ipython",
    "version": 3
   },
   "file_extension": ".py",
   "mimetype": "text/x-python",
   "name": "python",
   "nbconvert_exporter": "python",
   "pygments_lexer": "ipython3",
   "version": "3.9.12"
  }
 },
 "nbformat": 4,
 "nbformat_minor": 5
}
