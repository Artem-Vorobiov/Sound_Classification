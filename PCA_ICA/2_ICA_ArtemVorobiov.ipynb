{
 "cells": [
  {
   "cell_type": "code",
   "execution_count": 48,
   "id": "cdca2e96",
   "metadata": {},
   "outputs": [],
   "source": [
    "import numpy as np\n",
    "import matplotlib.pyplot as plt\n",
    "from matplotlib import cm\n",
    "from tables import *\n",
    "from sklearn.decomposition import PCA\n",
    "from sklearn.decomposition import FastICA"
   ]
  },
  {
   "cell_type": "code",
   "execution_count": 49,
   "id": "20739696",
   "metadata": {},
   "outputs": [],
   "source": [
    "# Here I assign height and width\n",
    "image_height= 12\n",
    "image_width= 22\n",
    "\n",
    "# Assign tuple containing the image height and width.\n",
    "image_shape=(image_height,image_width)\n",
    "\n",
    "# Here I create  a string variable \"datafilename\" which contains the name of an HDF5 file\n",
    "datafilename='B_challenge_8.hdf5'"
   ]
  },
  {
   "cell_type": "code",
   "execution_count": 50,
   "id": "3ed65840",
   "metadata": {},
   "outputs": [
    {
     "name": "stdout",
     "output_type": "stream",
     "text": [
      "3000\n",
      "<class 'tables.table.Table'>\n",
      "/Images/Images (Table(3000,)) 'Images for B assignment'\n"
     ]
    }
   ],
   "source": [
    "# Read PCA dataset\n",
    "ImagesFile = open_file(datafilename, mode = \"r\")\n",
    "ImagesTable=ImagesFile.root.Images.Images\n",
    "\n",
    "# Check out what kinds of data I have and it's shape\n",
    "print(ImagesTable.shape[0])\n",
    "print(type(ImagesTable))\n",
    "print(ImagesTable)"
   ]
  },
  {
   "cell_type": "code",
   "execution_count": 51,
   "id": "a2581fe9",
   "metadata": {},
   "outputs": [
    {
     "name": "stdout",
     "output_type": "stream",
     "text": [
      "(12, 22)\n"
     ]
    },
    {
     "data": {
      "image/png": "[encoded data removed]",
      "text/plain": [
       "<Figure size 528x288 with 1 Axes>"
      ]
     },
     "metadata": {
      "needs_background": "light"
     },
     "output_type": "display_data"
    },
    {
     "name": "stdout",
     "output_type": "stream",
     "text": [
      "(12, 22)\n"
     ]
    },
    {
     "data": {
      "image/png": "[encoded data removed]",
      "text/plain": [
       "<Figure size 528x288 with 1 Axes>"
      ]
     },
     "metadata": {
      "needs_background": "light"
     },
     "output_type": "display_data"
    },
    {
     "name": "stdout",
     "output_type": "stream",
     "text": [
      "(12, 22)\n"
     ]
    },
    {
     "data": {
      "image/png": "[encoded data removed]",
      "text/plain": [
       "<Figure size 528x288 with 1 Axes>"
      ]
     },
     "metadata": {
      "needs_background": "light"
     },
     "output_type": "display_data"
    },
    {
     "name": "stdout",
     "output_type": "stream",
     "text": [
      "(12, 22)\n"
     ]
    },
    {
     "data": {
      "image/png": "[encoded data removed]",
      "text/plain": [
       "<Figure size 528x288 with 1 Axes>"
      ]
     },
     "metadata": {
      "needs_background": "light"
     },
     "output_type": "display_data"
    }
   ],
   "source": [
    "# Start and stop are specified here, you need to process entire dataset!\n",
    "for x in ImagesTable.iterrows(0,4): \n",
    "    print(x['image'].shape)\n",
    "    plt.matshow(x['image'], interpolation='nearest', cmap=cm.jet)\n",
    "    plt.show()"
   ]
  },
  {
   "cell_type": "code",
   "execution_count": 52,
   "id": "26c82bb4",
   "metadata": {},
   "outputs": [
    {
     "name": "stdout",
     "output_type": "stream",
     "text": [
      "(3000,)\n",
      "<class 'tables.table.Table'>\n",
      "/Images/Images (Table(3000,)) 'Images for B assignment'\n"
     ]
    }
   ],
   "source": [
    "# Read PCA dataset\n",
    "ImagesFile = open_file(datafilename, mode = \"r\")\n",
    "ImagesTable=ImagesFile.root.Images.Images\n",
    "\n",
    "\n",
    "# ImagesTable object is a reference to the Images dataset within the file.\n",
    "print(ImagesTable.shape)\n",
    "print(type(ImagesTable))\n",
    "print(ImagesTable)"
   ]
  },
  {
   "cell_type": "code",
   "execution_count": 53,
   "id": "c7cad69c",
   "metadata": {},
   "outputs": [
    {
     "name": "stdout",
     "output_type": "stream",
     "text": [
      "3000\n",
      "(3000, 264)\n"
     ]
    }
   ],
   "source": [
    "# Length is defined as the product of image_height and image_width,\n",
    "# which represents the total number of pixels in an image. \n",
    "length = image_height * image_width\n",
    "print(ImagesTable.shape[0])\n",
    "\n",
    "# This is useful to know to ensure that the new array has the correct dimensions to store all the images.\n",
    "number_of_images = ImagesTable.shape[0]\n",
    "\n",
    "# new_array will be used to store the flattened representation of each image.\n",
    "new_array = np.zeros((number_of_images, length))\n",
    "print(new_array.shape)"
   ]
  },
  {
   "cell_type": "code",
   "execution_count": 54,
   "id": "8b09a179",
   "metadata": {},
   "outputs": [
    {
     "name": "stdout",
     "output_type": "stream",
     "text": [
      "(792000,)\n"
     ]
    },
    {
     "data": {
      "text/plain": [
       "(array([1.0000e+00, 2.0000e+00, 2.0000e+00, 1.3000e+01, 1.5000e+01,\n",
       "        4.0000e+01, 6.5000e+01, 1.4700e+02, 3.5000e+02, 8.6400e+02,\n",
       "        1.8840e+03, 4.0310e+03, 8.0830e+03, 1.4933e+04, 2.5850e+04,\n",
       "        4.0600e+04, 5.8125e+04, 7.5511e+04, 8.8719e+04, 9.6892e+04,\n",
       "        9.4566e+04, 8.4416e+04, 6.8521e+04, 5.0388e+04, 3.4325e+04,\n",
       "        2.0843e+04, 1.1499e+04, 6.0780e+03, 2.9320e+03, 1.2450e+03,\n",
       "        6.2600e+02, 2.2900e+02, 1.2400e+02, 4.7000e+01, 2.0000e+01,\n",
       "        4.0000e+00, 5.0000e+00, 3.0000e+00, 0.0000e+00, 2.0000e+00]),\n",
       " array([-19.92917031, -18.92435549, -17.91954067, -16.91472584,\n",
       "        -15.90991102, -14.9050962 , -13.90028137, -12.89546655,\n",
       "        -11.89065173, -10.88583691,  -9.88102208,  -8.87620726,\n",
       "         -7.87139244,  -6.86657761,  -5.86176279,  -4.85694797,\n",
       "         -3.85213314,  -2.84731832,  -1.8425035 ,  -0.83768867,\n",
       "          0.16712615,   1.17194097,   2.1767558 ,   3.18157062,\n",
       "          4.18638544,   5.19120026,   6.19601509,   7.20082991,\n",
       "          8.20564473,   9.21045956,  10.21527438,  11.2200892 ,\n",
       "         12.22490403,  13.22971885,  14.23453367,  15.2393485 ,\n",
       "         16.24416332,  17.24897814,  18.25379296,  19.25860779,\n",
       "         20.26342261]),\n",
       " <BarContainer object of 40 artists>)"
      ]
     },
     "execution_count": 54,
     "metadata": {},
     "output_type": "execute_result"
    },
    {
     "data": {
      "image/png": "[encoded data removed]",
      "text/plain": [
       "<Figure size 648x432 with 1 Axes>"
      ]
     },
     "metadata": {
      "needs_background": "light"
     },
     "output_type": "display_data"
    }
   ],
   "source": [
    "# I iterate over each row of the ImagesTable dataset. \n",
    "i=0\n",
    "for unflattened_array in ImagesTable.iterrows():\n",
    "    # This line flattens the 2D pixel array for the current image into a 1D array and stores it in the new_array variable. \n",
    "    new_array[i] = unflattened_array['image'].flatten()\n",
    "    i=i+1\n",
    "\n",
    "# This line flattens the 2D array new_array into a 1D array new_array_fl.\n",
    "# This will be useful for visualizing the distribution of pixel values across all images.\n",
    "new_array_fl = new_array.flatten()\n",
    "print(new_array_fl.shape)\n",
    "\n",
    "# Plot histogram\n",
    "plt.figure(figsize=(9,6))\n",
    "plt.hist(new_array_fl, bins=40, color = 'blue', edgecolor = 'black')"
   ]
  },
  {
   "cell_type": "markdown",
   "id": "722cd6e8",
   "metadata": {},
   "source": [
    "## <div align=\"center\">PCA or ICA ?!</div>"
   ]
  },
  {
   "cell_type": "markdown",
   "id": "31b46e35",
   "metadata": {},
   "source": [
    "The histogram is unimodal (single peak), the data is concentrated around a central value. I can define whether to use PCA or ICA by comparing the variance and reconstruction error."
   ]
  },
  {
   "cell_type": "code",
   "execution_count": 55,
   "id": "a8551c88",
   "metadata": {},
   "outputs": [
    {
     "name": "stdout",
     "output_type": "stream",
     "text": [
      "(3000, 10)\n"
     ]
    }
   ],
   "source": [
    "# Perform PCA on the data\n",
    "\n",
    "# Initialize PCA using sklearn library \n",
    "ica = FastICA(n_components=10)\n",
    "\n",
    "# This applies the PCA analysis on the new_array and returns the transformed data in data_PCA variable. \n",
    "data_ICA = ica.fit_transform(new_array)\n",
    "print(data_PCA.shape)"
   ]
  },
  {
   "cell_type": "code",
   "execution_count": 56,
   "id": "ac778197",
   "metadata": {},
   "outputs": [
    {
     "name": "stdout",
     "output_type": "stream",
     "text": [
      "Variance of the original data: 10.86381504029563\n",
      "Reconstruction error: 9.848372700433083\n",
      "The reconstruction error is much smaller than the variance.\n"
     ]
    }
   ],
   "source": [
    "# Get the inverse matrix \n",
    "data_reconstructed = pca.inverse_transform(data_ICA)\n",
    "\n",
    "# compute reconstruction error as mean squared error\n",
    "reconstruction_error = np.mean((new_array - data_reconstructed)**2)\n",
    "\n",
    "# compute variance of the original data\n",
    "variance = np.var(new_array)\n",
    "print(\"Variance of the original data:\", variance)\n",
    "print(\"Reconstruction error:\", reconstruction_error)\n",
    "\n",
    "# compare the reconstruction error to the variance\n",
    "if reconstruction_error < variance:\n",
    "    print(\"The reconstruction error is much smaller than the variance.\")\n",
    "else:\n",
    "    print(\"The reconstruction error is close to or larger than the variance.\")"
   ]
  },
  {
   "cell_type": "markdown",
   "id": "d40621ce",
   "metadata": {},
   "source": [
    "The reconstruction error is much smaller than the variance same as for the PCA test that I already done. Thus, in my case the test based on reconstruction error does not work and cannot give a green light for PCA nor ICA.\n",
    "\n",
    "Another approach is just run PCA and ICA for the data and analyse the result. So, I will do this for the data that I have in this Jupyter Notebook - I will run ICA and see the output."
   ]
  },
  {
   "cell_type": "code",
   "execution_count": 57,
   "id": "55a112b5",
   "metadata": {},
   "outputs": [
    {
     "data": {
      "image/png": "[encoded data removed]",
      "text/plain": [
       "<Figure size 528x288 with 1 Axes>"
      ]
     },
     "metadata": {
      "needs_background": "light"
     },
     "output_type": "display_data"
    },
    {
     "data": {
      "image/png": "[encoded data removed]",
      "text/plain": [
       "<Figure size 528x288 with 1 Axes>"
      ]
     },
     "metadata": {
      "needs_background": "light"
     },
     "output_type": "display_data"
    },
    {
     "data": {
      "image/png": "[encoded data removed]",
      "text/plain": [
       "<Figure size 528x288 with 1 Axes>"
      ]
     },
     "metadata": {
      "needs_background": "light"
     },
     "output_type": "display_data"
    },
    {
     "data": {
      "image/png": "[encoded data removed]",
      "text/plain": [
       "<Figure size 528x288 with 1 Axes>"
      ]
     },
     "metadata": {
      "needs_background": "light"
     },
     "output_type": "display_data"
    },
    {
     "data": {
      "image/png": "[encoded data removed]",
      "text/plain": [
       "<Figure size 528x288 with 1 Axes>"
      ]
     },
     "metadata": {
      "needs_background": "light"
     },
     "output_type": "display_data"
    },
    {
     "data": {
      "image/png": "[encoded data removed]",
      "text/plain": [
       "<Figure size 528x288 with 1 Axes>"
      ]
     },
     "metadata": {
      "needs_background": "light"
     },
     "output_type": "display_data"
    },
    {
     "data": {
      "image/png": "[encoded data removed]",
      "text/plain": [
       "<Figure size 528x288 with 1 Axes>"
      ]
     },
     "metadata": {
      "needs_background": "light"
     },
     "output_type": "display_data"
    },
    {
     "data": {
      "image/png": "[encoded data removed]",
      "text/plain": [
       "<Figure size 528x288 with 1 Axes>"
      ]
     },
     "metadata": {
      "needs_background": "light"
     },
     "output_type": "display_data"
    },
    {
     "data": {
      "image/png": "[encoded data removed]",
      "text/plain": [
       "<Figure size 528x288 with 1 Axes>"
      ]
     },
     "metadata": {
      "needs_background": "light"
     },
     "output_type": "display_data"
    },
    {
     "data": {
      "image/png": "[encoded data removed]",
      "text/plain": [
       "<Figure size 528x288 with 1 Axes>"
      ]
     },
     "metadata": {
      "needs_background": "light"
     },
     "output_type": "display_data"
    }
   ],
   "source": [
    "# Each iteration of the loop corresponds to a principal component. n_components = 10 that's why we iterate 10 times.\n",
    "for k in range(0,10):\n",
    "    # Here I compute principal component and reshapes it into a 2D image with the original dimensions image_height and image_width.\n",
    "    output = np.abs(ica.components_[k,:]).reshape((image_height, image_width))\n",
    "    # Plot the result\n",
    "    plt.matshow(output, interpolation='nearest', cmap=cm.jet)\n",
    "    plt.show()"
   ]
  },
  {
   "cell_type": "markdown",
   "id": "9d282a74",
   "metadata": {},
   "source": [
    "The output is - Keras"
   ]
  },
  {
   "cell_type": "markdown",
   "id": "1fd1a079",
   "metadata": {},
   "source": [
    "### The ICA worked well, therefore no need to try PCA."
   ]
  }
 ],
 "metadata": {
  "kernelspec": {
   "display_name": "Python 3 (ipykernel)",
   "language": "python",
   "name": "python3"
  },
  "language_info": {
   "codemirror_mode": {
    "name": "ipython",
    "version": 3
   },
   "file_extension": ".py",
   "mimetype": "text/x-python",
   "name": "python",
   "nbconvert_exporter": "python",
   "pygments_lexer": "ipython3",
   "version": "3.9.12"
  }
 },
 "nbformat": 4,
 "nbformat_minor": 5
}
